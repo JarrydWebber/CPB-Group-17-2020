{
 "cells": [
  {
   "cell_type": "code",
   "execution_count": 1,
   "metadata": {},
   "outputs": [],
   "source": [
    "import sympy\n",
    "import numpy\n",
    "import scipy\n",
    "import matplotlib.pyplot as plt\n",
    "import random\n",
    "\n",
    "import datetime\n",
    "\n",
    "import math\n",
    "\n",
    "import pandas\n",
    "\n",
    "import control\n",
    "\n",
    "import scipy.optimize\n",
    "from tbcontrol.responses import fopdt, sopdt\n",
    "from ipywidgets import interact\n",
    "\n",
    "import tclab"
   ]
  },
  {
   "cell_type": "code",
   "execution_count": 2,
   "metadata": {},
   "outputs": [],
   "source": [
    "TCLab = tclab.setup(connected= True) #False, speedup=100)"
   ]
  },
  {
   "cell_type": "markdown",
   "metadata": {},
   "source": [
    "Specifications"
   ]
  },
  {
   "cell_type": "code",
   "execution_count": 3,
   "metadata": {},
   "outputs": [],
   "source": [
    "spans_deltas = 16\n",
    "init_spans = 2\n",
    "\n",
    "spans = spans_deltas+init_spans\n",
    "\n",
    "base_unit = 60*20 #Each span lasts base_unit seconds\n",
    "\n",
    "q_init = 50\n",
    "q_final = 50\n",
    "\n",
    "setpoint = 30"
   ]
  },
  {
   "cell_type": "code",
   "execution_count": 4,
   "metadata": {},
   "outputs": [],
   "source": [
    "increment = (q_final-q_init)/(spans-1)\n",
    "\n",
    "run_time = base_unit*spans"
   ]
  },
  {
   "cell_type": "code",
   "execution_count": 5,
   "metadata": {},
   "outputs": [
    {
     "data": {
      "text/plain": [
       "'6:00:00'"
      ]
     },
     "execution_count": 5,
     "metadata": {},
     "output_type": "execute_result"
    }
   ],
   "source": [
    "str(datetime.timedelta(seconds=run_time))"
   ]
  },
  {
   "cell_type": "code",
   "execution_count": null,
   "metadata": {},
   "outputs": [],
   "source": [
    "with TCLab() as lab:\n",
    "    h = tclab.Historian(lab.sources)\n",
    "    tcplot = tclab.Plotter(h, run_time)\n",
    "    q_test = q_init\n",
    "    \n",
    "    base_unit_checker = init_spans\n",
    "    \n",
    "    for t in tclab.clock(run_time):\n",
    "        \n",
    "        base_unit_counter = t/base_unit\n",
    "        \n",
    "        print(base_unit_counter, base_unit_checker, t, increment, q_test)\n",
    "        \n",
    "        if base_unit_counter == base_unit_checker:\n",
    "            \n",
    "            base_unit_checker = base_unit_counter+1\n",
    "            \n",
    "            increment = random.randint(40 - q_test,60 - q_test)\n",
    "            while increment == 0:\n",
    "                increment = random.randint(40 - q_test,60 - q_test)\n",
    "\n",
    "            q_test += increment\n",
    "\n",
    "        lab.Q1(q_test)\n",
    "        tcplot.update(t)"
   ]
  },
  {
   "cell_type": "code",
   "execution_count": null,
   "metadata": {},
   "outputs": [],
   "source": [
    "h.get_sessions()"
   ]
  },
  {
   "cell_type": "code",
   "execution_count": null,
   "metadata": {},
   "outputs": [],
   "source": [
    "h.load_session(1)"
   ]
  },
  {
   "cell_type": "code",
   "execution_count": null,
   "metadata": {},
   "outputs": [],
   "source": [
    "data = {\"Time\" : h.t, \"T1\" : h.logdict['T1'], \"T2\" : h.logdict['T2'], \"Q1\" : h.logdict['Q1'], \"Q2\" : h.logdict['Q2']}"
   ]
  },
  {
   "cell_type": "code",
   "execution_count": null,
   "metadata": {},
   "outputs": [],
   "source": [
    "data_frame = pandas.DataFrame(data = data)\n",
    "data_frame.to_csv(\"long_span_run 20200227 overnight.csv\")"
   ]
  },
  {
   "cell_type": "code",
   "execution_count": null,
   "metadata": {},
   "outputs": [],
   "source": [
    "def fopdt_pos(t, K, tau, theta, y0):\n",
    "    return fopdt(t, K, numpy.exp(tau), theta, y0)"
   ]
  },
  {
   "cell_type": "code",
   "execution_count": null,
   "metadata": {},
   "outputs": [],
   "source": [
    "for span in range(init_spans ,spans):\n",
    "    lower = span*base_unit +1\n",
    "    upper = (span+1)*base_unit\n",
    "    \n",
    "    print (data_frame['Q1'][upper-1], data_frame['Q1'][lower-2])\n",
    "    \n",
    "    q_change = data_frame['Q1'][upper-1] - data_frame['Q1'][lower-2]\n",
    "        \n",
    "    [K, tau, theta, y0], _ = scipy.optimize.curve_fit(fopdt_pos, numpy.array(h.t[lower:upper])-h.t[lower], h.logdict['T1'][lower:upper], [2, 4, 20, 50])\n",
    "    tau = numpy.exp(tau)\n",
    "    \n",
    "    \n",
    "    print([K/q_change, tau, theta, y0], q_change, lower, upper)\n",
    "    tau = numpy.exp(tau)\n",
    "    \n",
    "#     plt.plot(h.t[lower:upper], h.logdict['T1'][lower:upper], 'go')\n",
    "    plt.plot(h.t[lower:upper], fopdt(numpy.array(h.t[lower:upper])-h.t[lower], K, tau, theta, y0), 'r')"
   ]
  },
  {
   "cell_type": "code",
   "execution_count": null,
   "metadata": {},
   "outputs": [],
   "source": []
  }
 ],
 "metadata": {
  "kernelspec": {
   "display_name": "Python 3",
   "language": "python",
   "name": "python3"
  },
  "language_info": {
   "codemirror_mode": {
    "name": "ipython",
    "version": 3
   },
   "file_extension": ".py",
   "mimetype": "text/x-python",
   "name": "python",
   "nbconvert_exporter": "python",
   "pygments_lexer": "ipython3",
   "version": "3.7.4"
  }
 },
 "nbformat": 4,
 "nbformat_minor": 4
}
