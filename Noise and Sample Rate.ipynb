{
 "cells": [
  {
   "cell_type": "code",
   "execution_count": 2,
   "metadata": {},
   "outputs": [],
   "source": [
    "import tclab\n",
    "import numpy\n",
    "import pandas\n",
    "\n",
    "import tbcontrol\n",
    "from tbcontrol import blocksim\n",
    "\n",
    "import matplotlib.pyplot as plt\n",
    "from latex_figure import plotfigure\n",
    "\n",
    "import datetime"
   ]
  },
  {
   "cell_type": "markdown",
   "metadata": {},
   "source": [
    "# Parameter Functions"
   ]
  },
  {
   "cell_type": "code",
   "execution_count": 3,
   "metadata": {},
   "outputs": [],
   "source": [
    "def cohen_coon(controller_type, parameters):\n",
    "    K, tau, theta =  parameters\n",
    "    \n",
    "    if controller_type == 'P':\n",
    "        Kc = (1.03/K)*(tau/theta + 0.34)\n",
    "        return Kc\n",
    "\n",
    "#PI controller\n",
    "    if controller_type == 'PI':\n",
    "        Kc = (0.9/K)*(tau/theta + 0.092)\n",
    "        tauI = (3.33*theta)*((tau + 0.092*theta)/(tau + 2.22*theta))\n",
    "        return Kc, tauI\n",
    "\n",
    "\n",
    "#PD controller\n",
    "    if controller_type == 'PD':\n",
    "        Kc = (1.24/K)*(tau/theta + 0.129)\n",
    "        taud = 0.27*theta*((tau - 0.324*theta)/(tau + 0.129*theta))\n",
    "        α = 2\n",
    "        return Kc, taud, α\n",
    "\n",
    "#PID controller\n",
    "    if controller_type == 'PID':\n",
    "        Kc = (1.35/K)*(tau/theta + 0.185)\n",
    "        tauI = 2.5*theta*((tau + 0.185*theta)/(tau + 0.611*theta))\n",
    "        taud = 0.37*theta*(tau/(tau + 0.185*theta))\n",
    "        return Kc, tauI, taud"
   ]
  },
  {
   "cell_type": "code",
   "execution_count": 4,
   "metadata": {},
   "outputs": [],
   "source": [
    "def IAE_setpoints(controller_type, parameters):\n",
    "    K, tau, theta = parameters\n",
    "#setpoints\n",
    "    if controller_type == 'PI':   \n",
    "        # PI\n",
    "        Kc = (0.758/K)*(theta/tau)**-0.861\n",
    "        tauI = tau/(1.02 - 0.323*(theta/tau))\n",
    "        return Kc, tauI\n",
    "\n",
    "\n",
    "    if controller_type == 'PID':\n",
    "        # PID\n",
    "        Kc = (1.086/K)*(theta/tau)**-0.869\n",
    "        tauI = tau/(0.740 - 0.130*(theta/tau))\n",
    "        taud = 0.348*tau*(theta/tau)**0.914\n",
    "        return Kc, tauI, taud"
   ]
  },
  {
   "cell_type": "code",
   "execution_count": 5,
   "metadata": {},
   "outputs": [],
   "source": [
    "def IAE_disturbances(controller_type, parameters):\n",
    "    K, tau , theta = parameters\n",
    "#disturbance\n",
    "    if controller_type == 'P':\n",
    "        # P\n",
    "        Kc = (0.902/K)*(theta/tau)**-0.985\n",
    "        return Kc\n",
    "    \n",
    "    if controller_type == 'PI':\n",
    "        # PI\n",
    "        Kc = (0.984/K)*(theta/tau)**-0.986\n",
    "        tauI = (tau/0.608)*(theta/tau)**0.707\n",
    "        return Kc, tauI\n",
    "\n",
    "    if controller_type == 'PID':\n",
    "        # PID\n",
    "        Kc = (1.435/K)*(theta/tau)**-0.921\n",
    "        tauI = (tau/0.878)*(theta/tau)**0.749\n",
    "        taud = 0.482*tau*(theta/tau)**1.137\n",
    "        return Kc, tauI, taud"
   ]
  },
  {
   "cell_type": "markdown",
   "metadata": {},
   "source": [
    "# Block Sim Creation"
   ]
  },
  {
   "cell_type": "code",
   "execution_count": 6,
   "metadata": {},
   "outputs": [],
   "source": [
    "def controller_block(controller_type, parameters):\n",
    "    \n",
    "    if controller_type == 'P':\n",
    "        Kc_P = parameters\n",
    "        Gc_P = blocksim.LTI('Gc_P', 'e', 'Q', Kc_P, 1)\n",
    "        return Gc_P\n",
    "    \n",
    "    if controller_type == 'PI':\n",
    "        Kc_PI, tauI_PI = parameters\n",
    "        Gc_PI = blocksim.PI('Gc_PI','e','Q', Kc_PI, tauI_PI)\n",
    "        return Gc_PI\n",
    "    \n",
    "    if controller_type == 'PD':\n",
    "        Kc_PD, tauD_PD, α = parameters\n",
    "        Gc_PD = blocksim.LTI('Gc_PD','e','Q', [Kc_PD * tauD_PD * (α + 1), Kc_PD], [tauD_PD * α, 1]) \n",
    "        # Used the α term for physical realizability - Textbook eq 7-12 pg 129\n",
    "        return Gc_PD\n",
    "    \n",
    "    if controller_type == 'PID':\n",
    "        Kc_PID, tauI_PID, tauD_PID = parameters\n",
    "        Gc_PID = blocksim.PID('Gc_PID', 'e', 'Q', Kc_PID, tauI_PID, tauD_PID)\n",
    "        return Gc_PID"
   ]
  },
  {
   "cell_type": "code",
   "execution_count": 7,
   "metadata": {},
   "outputs": [],
   "source": [
    "def system_block(parameters):\n",
    "    K, tau, theta = parameters\n",
    "    Gp = blocksim.LTI('Gp', 'Q', 'Tp', K, [tau, 1], theta) # Block of the system FOPDT model\n",
    "    return Gp"
   ]
  },
  {
   "cell_type": "markdown",
   "metadata": {},
   "source": [
    "# Params"
   ]
  },
  {
   "cell_type": "code",
   "execution_count": 24,
   "metadata": {},
   "outputs": [],
   "source": [
    "K_50 = 0.6423177737615754\n",
    "tau_50 = 150.3121523254063\n",
    "theta_50 = 17.396993066317368"
   ]
  },
  {
   "cell_type": "code",
   "execution_count": 25,
   "metadata": {},
   "outputs": [],
   "source": [
    "params_50 = [K_50, tau_50, theta_50]"
   ]
  },
  {
   "cell_type": "code",
   "execution_count": 26,
   "metadata": {},
   "outputs": [],
   "source": [
    "integral_steps = 10"
   ]
  },
  {
   "cell_type": "code",
   "execution_count": 213,
   "metadata": {},
   "outputs": [],
   "source": [
    "run_length = 1500"
   ]
  },
  {
   "cell_type": "markdown",
   "metadata": {},
   "source": [
    "# Runs"
   ]
  },
  {
   "cell_type": "code",
   "execution_count": 214,
   "metadata": {},
   "outputs": [],
   "source": [
    "Gp = system_block(params_50)"
   ]
  },
  {
   "cell_type": "code",
   "execution_count": 215,
   "metadata": {},
   "outputs": [
    {
     "data": {
      "text/plain": [
       "[PI: e →[ Gc_PI ]→ Q, PI: e →[ Gc_PI ]→ Q, PI: e →[ Gc_PI ]→ Q]"
      ]
     },
     "execution_count": 215,
     "metadata": {},
     "output_type": "execute_result"
    }
   ],
   "source": [
    "all_controller_blocks# = [all_controller_blocks[0]]"
   ]
  },
  {
   "cell_type": "code",
   "execution_count": 241,
   "metadata": {},
   "outputs": [],
   "source": [
    "noise = [0.01, 0.1, 0.1, 1]"
   ]
  },
  {
   "cell_type": "code",
   "execution_count": 242,
   "metadata": {},
   "outputs": [],
   "source": [
    "sampling_rate = [1, 10, 25, 25]"
   ]
  },
  {
   "cell_type": "code",
   "execution_count": 243,
   "metadata": {},
   "outputs": [],
   "source": [
    "total_time = run_length*len(noise)"
   ]
  },
  {
   "cell_type": "code",
   "execution_count": 244,
   "metadata": {},
   "outputs": [],
   "source": [
    "all_controller_blocks = []\n",
    "for i in noise:\n",
    "    all_controller_blocks.append(controller_block('PI', IAE_setpoints('PI', params_50)))"
   ]
  },
  {
   "cell_type": "code",
   "execution_count": 245,
   "metadata": {},
   "outputs": [
    {
     "data": {
      "text/plain": [
       "('1:40:00', 6000)"
      ]
     },
     "execution_count": 245,
     "metadata": {},
     "output_type": "execute_result"
    }
   ],
   "source": [
    "str(datetime.timedelta(seconds=total_time)), total_time"
   ]
  },
  {
   "cell_type": "code",
   "execution_count": 246,
   "metadata": {},
   "outputs": [
    {
     "data": {
      "image/png": "[encoded data removed]",
      "text/plain": [
       "<Figure size 640x240 with 2 Axes>"
      ]
     },
     "metadata": {},
     "output_type": "display_data"
    },
    {
     "name": "stdout",
     "output_type": "stream",
     "text": [
      "TCLab Model disconnected successfully.\n"
     ]
    },
    {
     "data": {
      "image/png": "[encoded data removed]",
      "text/plain": [
       "<Figure size 640x240 with 2 Axes>"
      ]
     },
     "metadata": {
      "needs_background": "light"
     },
     "output_type": "display_data"
    }
   ],
   "source": [
    "TCLab = tclab.setup(connected=False, speedup = 10)\n",
    "\n",
    "with TCLab() as lab:\n",
    "    sources = [('T1', lambda: lab.T1),\n",
    "                ('Q1', lambda: lab.U1)]\n",
    "    h = tclab.Historian(sources)\n",
    "    p = tclab.Plotter(h, total_time)\n",
    "    \n",
    "    \n",
    "    for index, Gc in enumerate(all_controller_blocks):\n",
    "        n = noise[index]\n",
    "        sample = sampling_rate[index]\n",
    "        checker = 0\n",
    "        for t in tclab.clock(run_length):         \n",
    "            \n",
    "            if t < run_length/2:\n",
    "                T1sp = 50\n",
    "            else:\n",
    "                T1sp = 60\n",
    "            \n",
    "            if t/sample>=checker:\n",
    "                Q1 = lab.Q1(float(Gc.output+50))\n",
    "                T1 = lab.T1 + numpy.random.randn()*n\n",
    "                e = T1sp-T1\n",
    "                \n",
    "                checker+=1\n",
    "                print (T1, n, sample, t)\n",
    "\n",
    "                for step in range(integral_steps):\n",
    "                    Gc.change_input(t,e)\n",
    "                    Gc.change_state(Gc.state+Gc.derivative(e)/integral_steps)\n",
    "\n",
    "    #             h.update(t + index*run_length) \n",
    "                p.update(t + index*run_length)"
   ]
  },
  {
   "cell_type": "code",
   "execution_count": 247,
   "metadata": {},
   "outputs": [
    {
     "data": {
      "text/plain": [
       "[(1, '2020-03-03 13:59:35', 1437)]"
      ]
     },
     "execution_count": 247,
     "metadata": {},
     "output_type": "execute_result"
    }
   ],
   "source": [
    "h.get_sessions()"
   ]
  },
  {
   "cell_type": "code",
   "execution_count": 248,
   "metadata": {},
   "outputs": [],
   "source": [
    "h.load_session(1)"
   ]
  },
  {
   "cell_type": "code",
   "execution_count": 249,
   "metadata": {},
   "outputs": [],
   "source": [
    "data = {\"Time\" : h.t, \"T1\" : h.logdict['T1'], \"Q1\" : h.logdict['Q1']}"
   ]
  },
  {
   "cell_type": "code",
   "execution_count": 250,
   "metadata": {},
   "outputs": [
    {
     "data": {
      "text/html": [
       "<div>\n",
       "<style scoped>\n",
       "    .dataframe tbody tr th:only-of-type {\n",
       "        vertical-align: middle;\n",
       "    }\n",
       "\n",
       "    .dataframe tbody tr th {\n",
       "        vertical-align: top;\n",
       "    }\n",
       "\n",
       "    .dataframe thead th {\n",
       "        text-align: right;\n",
       "    }\n",
       "</style>\n",
       "<table border=\"1\" class=\"dataframe\">\n",
       "  <thead>\n",
       "    <tr style=\"text-align: right;\">\n",
       "      <th></th>\n",
       "      <th>T1</th>\n",
       "      <th>Q1</th>\n",
       "    </tr>\n",
       "    <tr>\n",
       "      <th>Time</th>\n",
       "      <th></th>\n",
       "      <th></th>\n",
       "    </tr>\n",
       "  </thead>\n",
       "  <tbody>\n",
       "    <tr>\n",
       "      <td>0.00</td>\n",
       "      <td>20.9495</td>\n",
       "      <td>50.000000</td>\n",
       "    </tr>\n",
       "    <tr>\n",
       "      <td>3.00</td>\n",
       "      <td>20.9495</td>\n",
       "      <td>100.000000</td>\n",
       "    </tr>\n",
       "    <tr>\n",
       "      <td>4.00</td>\n",
       "      <td>20.9495</td>\n",
       "      <td>100.000000</td>\n",
       "    </tr>\n",
       "    <tr>\n",
       "      <td>6.00</td>\n",
       "      <td>21.2718</td>\n",
       "      <td>100.000000</td>\n",
       "    </tr>\n",
       "    <tr>\n",
       "      <td>7.00</td>\n",
       "      <td>21.2718</td>\n",
       "      <td>100.000000</td>\n",
       "    </tr>\n",
       "    <tr>\n",
       "      <td>...</td>\n",
       "      <td>...</td>\n",
       "      <td>...</td>\n",
       "    </tr>\n",
       "    <tr>\n",
       "      <td>5900.09</td>\n",
       "      <td>57.3694</td>\n",
       "      <td>56.091303</td>\n",
       "    </tr>\n",
       "    <tr>\n",
       "      <td>5925.09</td>\n",
       "      <td>56.7248</td>\n",
       "      <td>79.996860</td>\n",
       "    </tr>\n",
       "    <tr>\n",
       "      <td>5950.00</td>\n",
       "      <td>57.6917</td>\n",
       "      <td>77.130689</td>\n",
       "    </tr>\n",
       "    <tr>\n",
       "      <td>5975.07</td>\n",
       "      <td>58.9809</td>\n",
       "      <td>69.395088</td>\n",
       "    </tr>\n",
       "    <tr>\n",
       "      <td>6000.09</td>\n",
       "      <td>59.9478</td>\n",
       "      <td>55.658734</td>\n",
       "    </tr>\n",
       "  </tbody>\n",
       "</table>\n",
       "<p>1437 rows × 2 columns</p>\n",
       "</div>"
      ],
      "text/plain": [
       "              T1          Q1\n",
       "Time                        \n",
       "0.00     20.9495   50.000000\n",
       "3.00     20.9495  100.000000\n",
       "4.00     20.9495  100.000000\n",
       "6.00     21.2718  100.000000\n",
       "7.00     21.2718  100.000000\n",
       "...          ...         ...\n",
       "5900.09  57.3694   56.091303\n",
       "5925.09  56.7248   79.996860\n",
       "5950.00  57.6917   77.130689\n",
       "5975.07  58.9809   69.395088\n",
       "6000.09  59.9478   55.658734\n",
       "\n",
       "[1437 rows x 2 columns]"
      ]
     },
     "execution_count": 250,
     "metadata": {},
     "output_type": "execute_result"
    }
   ],
   "source": [
    "data_frame = pandas.DataFrame(data = data)\n",
    "data_frame.to_csv(\"Combined Effects.csv\")\n",
    "\n",
    "data_frame.index = data_frame['Time']\n",
    "data_frame = data_frame.drop(columns = 'Time')\n",
    "data_frame"
   ]
  },
  {
   "cell_type": "code",
   "execution_count": 251,
   "metadata": {},
   "outputs": [],
   "source": [
    "aspect_ratio = 4 / 5\n",
    "FULLSIZE = 5, 5 * aspect_ratio\n",
    "HALFSIZE = 3, 3 * aspect_ratio"
   ]
  },
  {
   "cell_type": "code",
   "execution_count": 252,
   "metadata": {},
   "outputs": [
    {
     "name": "stdout",
     "output_type": "stream",
     "text": [
      "Time\n",
      "750.01     50.2788\n",
      "751.01     50.2788\n",
      "753.00     50.2788\n",
      "754.00     50.6011\n",
      "756.00     50.6011\n",
      "            ...   \n",
      "1494.00    59.9478\n",
      "1496.01    59.9478\n",
      "1497.00    60.2701\n",
      "1499.00    59.9478\n",
      "1500.00    59.9478\n",
      "Name: T1, Length: 579, dtype: float64 \n",
      "\n",
      "Time\n",
      "2250.02    49.9565\n",
      "2260.02    49.9565\n",
      "2270.01    50.6011\n",
      "2280.01    51.5680\n",
      "2290.04    53.1795\n",
      "            ...   \n",
      "2960.02    58.9809\n",
      "2970.02    58.6586\n",
      "2980.01    58.6586\n",
      "2990.01    58.9809\n",
      "3000.00    58.6586\n",
      "Name: T1, Length: 76, dtype: float64 \n",
      "\n",
      "Time\n",
      "3750.07    48.9896\n",
      "3775.02    49.9565\n",
      "3800.02    52.8572\n",
      "3825.08    56.7248\n",
      "3850.09    60.5924\n",
      "3875.07    62.8485\n",
      "3900.05    61.8816\n",
      "3925.08    59.3032\n",
      "3950.07    56.7248\n",
      "3975.04    55.1133\n",
      "4000.07    55.7579\n",
      "4025.02    57.6917\n",
      "4050.01    59.9478\n",
      "4075.06    60.9147\n",
      "4100.02    60.5924\n",
      "4125.02    59.3032\n",
      "4150.08    57.3694\n",
      "4175.07    56.4025\n",
      "4200.02    56.7248\n",
      "4225.06    58.0140\n",
      "4250.05    59.3032\n",
      "4275.05    59.9478\n",
      "4300.09    59.9478\n",
      "4325.06    58.9809\n",
      "4350.05    58.0140\n",
      "4375.04    57.3694\n",
      "4400.07    57.3694\n",
      "4425.02    58.0140\n",
      "4450.05    58.9809\n",
      "4475.02    59.6255\n",
      "4500.00    59.6255\n",
      "Name: T1, dtype: float64 \n",
      "\n",
      "Time\n",
      "5250.00    49.3119\n",
      "5275.09    50.6011\n",
      "5300.07    53.5018\n",
      "5325.06    57.6917\n",
      "5350.05    61.2370\n",
      "5375.06    62.2039\n",
      "5400.08    60.2701\n",
      "5425.09    58.0140\n",
      "5450.02    57.0471\n",
      "5475.09    56.7248\n",
      "5500.08    56.7248\n",
      "5525.09    57.6917\n",
      "5550.06    58.9809\n",
      "5575.06    60.2701\n",
      "5600.08    60.2701\n",
      "5625.09    59.3032\n",
      "5650.07    57.6917\n",
      "5675.09    56.0802\n",
      "5700.06    55.7579\n",
      "5725.06    57.6917\n",
      "5750.04    59.6255\n",
      "5775.04    59.9478\n",
      "5800.07    59.9478\n",
      "5825.10    59.6255\n",
      "5850.04    58.6586\n",
      "5875.07    58.0140\n",
      "5900.09    57.3694\n",
      "5925.09    56.7248\n",
      "5950.00    57.6917\n",
      "5975.07    58.9809\n",
      "Name: T1, dtype: float64 \n",
      "\n"
     ]
    }
   ],
   "source": [
    "y = []\n",
    "x = []\n",
    "for i in range(0,len(noise)):\n",
    "    y_set = data_frame['T1'][1*i*run_length + run_length/2:1*i*run_length + run_length]\n",
    "    \n",
    "    y.append(y_set)\n",
    "    \n",
    "    x_set = (data_frame['T1'][1*i*run_length + run_length/2:1*i*run_length + run_length].index - 1*i*run_length)\n",
    "    \n",
    "    x.append(x_set)\n",
    "    \n",
    "#     print(x_set)\n",
    "    print(y_set, '\\n')"
   ]
  },
  {
   "cell_type": "code",
   "execution_count": 253,
   "metadata": {},
   "outputs": [
    {
     "data": {
      "image/png": "[encoded data removed]",
      "text/plain": [
       "<Figure size 360x288 with 1 Axes>"
      ]
     },
     "metadata": {
      "needs_background": "light"
     },
     "output_type": "display_data"
    }
   ],
   "source": [
    "plotfigure(x, y, \n",
    "           [\"Noise = {} every {} second\".format(noise[i],sampling_rate[i]) for i in range(len(noise))], \n",
    "           ['orange', 'r','b', 'c'], \n",
    "           'Time (s)', '$T_1$ (\\u00b0C)', \n",
    "           figsize = FULLSIZE, \n",
    "           filename = r'PDFS\\\\' + 'Sampling Rate and Noise.pdf',\n",
    "            legend = True)\n",
    "        "
   ]
  },
  {
   "cell_type": "code",
   "execution_count": null,
   "metadata": {},
   "outputs": [],
   "source": []
  },
  {
   "cell_type": "code",
   "execution_count": null,
   "metadata": {},
   "outputs": [],
   "source": []
  }
 ],
 "metadata": {
  "kernelspec": {
   "display_name": "Python 3",
   "language": "python",
   "name": "python3"
  },
  "language_info": {
   "codemirror_mode": {
    "name": "ipython",
    "version": 3
   },
   "file_extension": ".py",
   "mimetype": "text/x-python",
   "name": "python",
   "nbconvert_exporter": "python",
   "pygments_lexer": "ipython3",
   "version": "3.7.4"
  }
 },
 "nbformat": 4,
 "nbformat_minor": 4
}
