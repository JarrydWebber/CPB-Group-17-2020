{
 "cells": [
  {
   "cell_type": "code",
   "execution_count": 1,
   "metadata": {},
   "outputs": [],
   "source": [
    "import sympy\n",
    "import numpy\n",
    "import scipy\n",
    "import matplotlib.pyplot as plt\n",
    "import random\n",
    "\n",
    "import datetime\n",
    "\n",
    "import math\n",
    "\n",
    "import pandas\n",
    "\n",
    "import control\n",
    "\n",
    "import scipy.optimize\n",
    "from tbcontrol.responses import fopdt, sopdt\n",
    "from ipywidgets import interact\n",
    "\n",
    "import tclab"
   ]
  },
  {
   "cell_type": "code",
   "execution_count": 2,
   "metadata": {},
   "outputs": [],
   "source": [
    "TCLab = tclab.setup(connected= False) #False, speedup=100)"
   ]
  },
  {
   "cell_type": "markdown",
   "metadata": {},
   "source": [
    "Specifications"
   ]
  },
  {
   "cell_type": "code",
   "execution_count": 18,
   "metadata": {},
   "outputs": [],
   "source": [
    "spans_deltas = 11\n",
    "init_spans = 3\n",
    "\n",
    "spans = spans_deltas+init_spans\n",
    "\n",
    "base_unit = 6 #Each span lasts base_unit seconds\n",
    "\n",
    "q_init = 50\n",
    "q_final = 50\n",
    "\n",
    "setpoint = 30"
   ]
  },
  {
   "cell_type": "code",
   "execution_count": 19,
   "metadata": {},
   "outputs": [],
   "source": [
    "increment = (q_final-q_init)/(spans-1)\n",
    "\n",
    "run_time = base_unit*spans"
   ]
  },
  {
   "cell_type": "code",
   "execution_count": 20,
   "metadata": {},
   "outputs": [
    {
     "data": {
      "text/plain": [
       "('0:01:24', 0.0)"
      ]
     },
     "execution_count": 20,
     "metadata": {},
     "output_type": "execute_result"
    }
   ],
   "source": [
    "str(datetime.timedelta(seconds=run_time)), increment"
   ]
  },
  {
   "cell_type": "code",
   "execution_count": 21,
   "metadata": {},
   "outputs": [
    {
     "data": {
      "text/plain": [
       "-4"
      ]
     },
     "execution_count": 21,
     "metadata": {},
     "output_type": "execute_result"
    }
   ],
   "source": [
    "increment = random.randint(-10,10)\n",
    "increment"
   ]
  },
  {
   "cell_type": "code",
   "execution_count": null,
   "metadata": {},
   "outputs": [
    {
     "data": {
      "image/png": "[encoded data removed]",
      "text/plain": [
       "<Figure size 640x480 with 4 Axes>"
      ]
     },
     "metadata": {},
     "output_type": "display_data"
    },
    {
     "name": "stdout",
     "output_type": "stream",
     "text": [
      "11.333333333333334 12.0 68.0 -8 47\n"
     ]
    }
   ],
   "source": [
    "with TCLab() as lab:\n",
    "    h = tclab.Historian(lab.sources)\n",
    "    tcplot = tclab.Plotter(h, run_time)\n",
    "    q_test = q_init\n",
    "    \n",
    "    base_unit_checker = init_spans\n",
    "    \n",
    "    for t in tclab.clock(run_time):\n",
    "        \n",
    "        base_unit_counter = t/base_unit\n",
    "        \n",
    "\n",
    "        \n",
    "        print(base_unit_counter, base_unit_checker, t, increment, q_test)\n",
    "        \n",
    "        if base_unit_counter == base_unit_checker:\n",
    "            \n",
    "            base_unit_checker = base_unit_counter+1\n",
    "            \n",
    "\n",
    "            increment = random.randint(40 - q_test,60 - q_test)\n",
    "            while increment == 0:\n",
    "                increment = random.randint(40 - q_test,60 - q_test)\n",
    "\n",
    "            q_test += increment\n",
    "            \n",
    "        lab.Q1(q_test)\n",
    "        tcplot.update(t)"
   ]
  },
  {
   "cell_type": "code",
   "execution_count": null,
   "metadata": {},
   "outputs": [],
   "source": [
    "h.get_sessions()"
   ]
  },
  {
   "cell_type": "code",
   "execution_count": 8,
   "metadata": {},
   "outputs": [],
   "source": [
    "h.load_session(1)"
   ]
  },
  {
   "cell_type": "code",
   "execution_count": 9,
   "metadata": {},
   "outputs": [],
   "source": [
    "data = {\"Time\" : h.t, \"T1\" : h.logdict['T1'], \"T2\" : h.logdict['T2'], \"Q1\" : h.logdict['Q1'], \"Q2\" : h.logdict['Q2']}"
   ]
  },
  {
   "cell_type": "code",
   "execution_count": 10,
   "metadata": {},
   "outputs": [],
   "source": [
    "data_frame = pandas.DataFrame(data = data)\n",
    "data_frame.to_csv(\"long_span_run 20200226 overnight\")"
   ]
  },
  {
   "cell_type": "code",
   "execution_count": 11,
   "metadata": {},
   "outputs": [
    {
     "data": {
      "text/plain": [
       "[509.12191523329597, 67241.93463809659, -41439.87815248762, -215.1710499156921]"
      ]
     },
     "execution_count": 11,
     "metadata": {},
     "output_type": "execute_result"
    }
   ],
   "source": [
    "[K, tau, theta, y0], _ = scipy.optimize.curve_fit(fopdt, h.t, h.logdict['T1'], [2, 4, 100, 50])\n",
    "[K, tau, theta, y0]"
   ]
  },
  {
   "cell_type": "code",
   "execution_count": 18,
   "metadata": {},
   "outputs": [
    {
     "name": "stdout",
     "output_type": "stream",
     "text": [
      "[-0.7176563802220194, 2053.855298128427, -73.18866248091973, 22.808641418526705]\n",
      "[22.78351819 22.78318108 22.78284414 ... 22.37969315 22.37955261\n",
      " 22.37941215]\n",
      "[7.937039338327233, 178.12547198830777, 21.036607414862637, 22.461818165664152]\n",
      "[22.46181817 22.46181817 22.46181817 ... 30.3984863  30.39848838\n",
      " 30.39849044]\n",
      "[7.1536906324730705, 165.1448014291556, 20.926050477221434, 30.524285724070324]\n",
      "[30.52428572 30.52428572 30.52428572 ... 37.67782365 37.67782458\n",
      " 37.67782549]\n",
      "[6.563112933153152, 149.8106323390278, 20.619820224235994, 37.68428567828369]\n",
      "[37.68428568 37.68428568 37.68428568 ... 44.24735211 44.24735242\n",
      " 44.24735273]\n",
      "[6.506009888782758, 148.81426376393418, 20.30724937820573, 44.27761900886697]\n",
      "[44.27761901 44.27761901 44.27761901 ... 50.78358641 50.78358669\n",
      " 50.78358698]\n",
      "[6.189974933177775, 141.0299746911965, 18.477229826459197, 50.7957894598908]\n",
      "[50.79578946 50.79578946 50.79578946 ... 56.98574375 56.98574389\n",
      " 56.98574404]\n",
      "[6.413889462851305, 135.75806087229026, 23.42268878301546, 57.25958333680524]\n",
      "[57.25958334 57.25958334 57.25958334 ... 63.6734592  63.6734593\n",
      " 63.6734594 ]\n",
      "[6.064173406920484, 135.39259713927862, 25.623562529307524, 63.856153703057196]\n",
      "[63.8561537  63.8561537  63.8561537  ... 69.9203145  69.92031459\n",
      " 69.92031468]\n",
      "[5.727977444424607, 127.65326785584925, 25.39074524677939, 69.86076942784494]\n",
      "[69.86076943 69.86076943 69.86076943 ... 75.58874149 75.58874153\n",
      " 75.58874158]\n",
      "[5.83587135055858, 194.00614209076102, 0.998937082346969, 75.69993886384873]\n",
      "[75.69993886 75.69997084 75.72997414 ... 81.53525348 81.53525634\n",
      " 81.53525919]\n",
      "[5.052179674483506, 111.0114012113139, 26.346227181074287, 81.70148148521349]\n",
      "[81.70148149 81.70148149 81.70148149 ... 86.75366056 86.75366057\n",
      " 86.75366057]\n"
     ]
    },
    {
     "data": {
      "image/png": "[encoded data removed]",
      "text/plain": [
       "<Figure size 432x288 with 1 Axes>"
      ]
     },
     "metadata": {
      "needs_background": "light"
     },
     "output_type": "display_data"
    }
   ],
   "source": [
    "plt.plot(h.t, h.logdict['T1'])\n",
    "\n",
    "for span in range(spans):\n",
    "    lower = span*base_unit\n",
    "    upper = (span+1)*base_unit\n",
    "    \n",
    "    \n",
    "    \n",
    "    [K, tau, theta, y0], _ = scipy.optimize.curve_fit(fopdt, numpy.array(h.t[lower:upper])-h.t[lower], h.logdict['T1'][lower:upper], [2, 4, 100, 50])\n",
    "\n",
    "    print([K, tau, theta, y0])\n",
    "    print( fopdt(numpy.array(h.t[lower:upper])-h.t[lower], K, tau, theta, y0))\n",
    "    \n",
    "#     plt.plot(h.t, h.logdict['T1'])\n",
    "    plt.plot(h.t[lower:upper], fopdt(numpy.array(h.t[lower:upper])-h.t[lower], K, tau, theta, y0))\n",
    "\n",
    "plt.savefig('steps.png', dpi = 300)"
   ]
  },
  {
   "cell_type": "code",
   "execution_count": 14,
   "metadata": {},
   "outputs": [
    {
     "data": {
      "text/plain": [
       "<Figure size 432x288 with 0 Axes>"
      ]
     },
     "metadata": {},
     "output_type": "display_data"
    }
   ],
   "source": []
  },
  {
   "cell_type": "code",
   "execution_count": null,
   "metadata": {},
   "outputs": [],
   "source": []
  }
 ],
 "metadata": {
  "kernelspec": {
   "display_name": "Python 3",
   "language": "python",
   "name": "python3"
  },
  "language_info": {
   "codemirror_mode": {
    "name": "ipython",
    "version": 3
   },
   "file_extension": ".py",
   "mimetype": "text/x-python",
   "name": "python",
   "nbconvert_exporter": "python",
   "pygments_lexer": "ipython3",
   "version": "3.7.4"
  }
 },
 "nbformat": 4,
 "nbformat_minor": 4
}
