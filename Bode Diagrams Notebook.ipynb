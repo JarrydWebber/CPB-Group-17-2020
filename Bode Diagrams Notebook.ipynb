{
 "cells": [
  {
   "cell_type": "markdown",
   "metadata": {},
   "source": [
    "#### In this tutorial we will be characterising the frequency response of your TCLab unit. \n",
    "\n",
    "- Plot a Bode diagram of the FOPDT model you fit to your TCLab for the project\n",
    "- Subject your TCLab sinusoidal variation of Q1 (Q₁ = Q̅ + Asin(ωt)) for at least 5 different values of ω chosen to be on both sides of the corner frequency of your FOPDT model.\n",
    "- Find the amplitude ratio and phase angle for the responses to sinusoidal forcing and plot them as dots on your Bode diagram.\n",
    "- Now subject your TCLab to a random set of pulses with long enough constant parts that the temperature has time to respond.\n",
    "- Use the input Q1 and the output T1 together with numpy.fft.rfft to determine a numeric estimate of the frequency response. Plot this on the same graph as before.\n",
    "\n",
    "Once you have characterised the open loop response of your unit, use the frequency response to find the largest gain that can be used for a PI controller with a time constant of 100 seconds (use the Bode stability criterion). Compare this to the answer you obtained in Tut 2. Was this process easier or harder than Tut 2? Which was more accurate?\n",
    "\n",
    "#### Submit\n",
    "\n",
    "- code in a notebook which you used to produce the response data\n",
    "- code in a notebook which can be run to produce your resulting bode diagrams (note this should be separate).\n",
    "- the data required to run the notebook above (your notebook should not require the TCLab to be connected).\n",
    "- A two page report with graphs showing the results of your bode diagrams (system and system with controller) and including a brief discussion."
   ]
  },
  {
   "cell_type": "code",
   "execution_count": 18,
   "metadata": {},
   "outputs": [],
   "source": [
    "import numpy as np\n",
    "import scipy\n",
    "import matplotlib.pyplot as plt\n",
    "%matplotlib inline"
   ]
  },
  {
   "cell_type": "code",
   "execution_count": null,
   "metadata": {},
   "outputs": [],
   "source": [
    "ω = np.logspace(-4, 0, 1000)\n",
    "s = 1j*ω\n",
    "\n",
    "Kp, τp, θp, To_p = (0.6423177737615754, 150.3121523254063, 17.396993066317368, 57.79957014481422)\n",
    "\n",
    "def bode(G):\n",
    "    fig, [ax_mag, ax_phase] = plt.subplots(2, 1)\n",
    "    ax_mag.loglog(ω, np.abs(G))\n",
    "    ax_phase.semilogx(ω, np.unwrap(np.angle(G)))\n",
    "\n",
    "G = Kp/(τp*s + 1)*np.exp(-θp*s)\n",
    "\n",
    "bode(G)"
   ]
  },
  {
   "cell_type": "markdown",
   "metadata": {},
   "source": [
    "- From the above graph, the corner frequency is around 10^-2\n",
    "- Choose Omega's in the range 10^-3 to 10^-1 and run the sinusoidal plots"
   ]
  },
  {
   "cell_type": "code",
   "execution_count": null,
   "metadata": {},
   "outputs": [],
   "source": []
  }
 ],
 "metadata": {
  "kernelspec": {
   "display_name": "Python 3",
   "language": "python",
   "name": "python3"
  },
  "language_info": {
   "codemirror_mode": {
    "name": "ipython",
    "version": 3
   },
   "file_extension": ".py",
   "mimetype": "text/x-python",
   "name": "python",
   "nbconvert_exporter": "python",
   "pygments_lexer": "ipython3",
   "version": "3.7.3"
  }
 },
 "nbformat": 4,
 "nbformat_minor": 2
}
