{
 "cells": [
  {
   "cell_type": "markdown",
   "metadata": {},
   "source": [
    "#### In this tutorial we will be characterising the frequency response of your TCLab unit. \n",
    "\n",
    "- Plot a Bode diagram of the FOPDT model you fit to your TCLab for the project\n",
    "- Subject your TCLab sinusoidal variation of Q1 (Q₁ = Q̅ + Asin(ωt)) for at least 5 different values of ω chosen to be on both sides of the corner frequency of your FOPDT model.\n",
    "- Find the amplitude ratio and phase angle for the responses to sinusoidal forcing and plot them as dots on your Bode diagram.\n",
    "- Now subject your TCLab to a random set of pulses with long enough constant parts that the temperature has time to respond.\n",
    "- Use the input Q1 and the output T1 together with numpy.fft.rfft to determine a numeric estimate of the frequency response. Plot this on the same graph as before.\n",
    "\n",
    "Once you have characterised the open loop response of your unit, use the frequency response to find the largest gain that can be used for a PI controller with a time constant of 100 seconds (use the Bode stability criterion). Compare this to the answer you obtained in Tut 2. Was this process easier or harder than Tut 2? Which was more accurate?\n",
    "\n",
    "#### Submit\n",
    "\n",
    "- code in a notebook which you used to produce the response data\n",
    "- code in a notebook which can be run to produce your resulting bode diagrams (note this should be separate).\n",
    "- the data required to run the notebook above (your notebook should not require the TCLab to be connected).\n",
    "- A two page report with graphs showing the results of your bode diagrams (system and system with controller) and including a brief discussion."
   ]
  },
  {
   "cell_type": "code",
   "execution_count": 1,
   "metadata": {},
   "outputs": [],
   "source": [
    "import tclab\n",
    "from tclab import Plotter, clock, Historian\n",
    "import datetime\n",
    "\n",
    "import numpy as np\n",
    "import tbcontrol\n",
    "from tbcontrol import blocksim\n",
    "\n",
    "import matplotlib.pyplot as plt\n",
    "import pandas as pd"
   ]
  },
  {
   "cell_type": "code",
   "execution_count": 2,
   "metadata": {},
   "outputs": [],
   "source": [
    "import numpy as np\n",
    "import scipy\n",
    "import matplotlib.pyplot as plt\n",
    "%matplotlib inline"
   ]
  },
  {
   "cell_type": "code",
   "execution_count": 3,
   "metadata": {},
   "outputs": [],
   "source": [
    "ω = np.logspace(-4, 1, 1000)\n",
    "s = 1j*ω\n",
    "\n",
    "Kp, τp, θp, To_p = (0.6423177737615754, 150.3121523254063, 17.396993066317368, 57.79957014481422)\n",
    "\n",
    "G = Kp/(τp*s + 1)*np.exp(-θp*s)"
   ]
  },
  {
   "cell_type": "code",
   "execution_count": 4,
   "metadata": {},
   "outputs": [
    {
     "data": {
      "image/png": "[encoded data removed]",
      "text/plain": [
       "<Figure size 432x288 with 2 Axes>"
      ]
     },
     "metadata": {
      "needs_background": "light"
     },
     "output_type": "display_data"
    }
   ],
   "source": [
    "fig, [ax_mag, ax_phase] = plt.subplots(2, 1)\n",
    "ax_mag.loglog(ω, np.abs(G))\n",
    "ax_phase.semilogx(ω, np.unwrap(np.angle(G)))\n",
    "plt.show()"
   ]
  },
  {
   "cell_type": "markdown",
   "metadata": {},
   "source": [
    "- From the above graph, the corner frequency is around 10^-2\n",
    "- Choose Omega's in the range 10^-3 to 10^-1 and run the sinusoidal plots"
   ]
  },
  {
   "cell_type": "code",
   "execution_count": 5,
   "metadata": {},
   "outputs": [
    {
     "data": {
      "text/plain": [
       "array([0.00398107, 0.00501187, 0.00630957, 0.00794328, 0.01      ])"
      ]
     },
     "execution_count": 5,
     "metadata": {},
     "output_type": "execute_result"
    }
   ],
   "source": [
    "ωs = np.logspace(-2.4, -2, 5)\n",
    "ωs"
   ]
  },
  {
   "cell_type": "code",
   "execution_count": 6,
   "metadata": {},
   "outputs": [
    {
     "data": {
      "image/png": "[encoded data removed]",
      "text/plain": [
       "<Figure size 432x288 with 2 Axes>"
      ]
     },
     "metadata": {
      "needs_background": "light"
     },
     "output_type": "display_data"
    }
   ],
   "source": [
    "fig, [ax_mag, ax_phase] = plt.subplots(2, 1)\n",
    "ax_mag.loglog(ω, np.abs(G))\n",
    "ax_phase.semilogx(ω, np.unwrap(np.angle(G)))\n",
    "ax_mag.loglog([10**-2.2, 10**1], [Kp, 10**-3.35]) # Green line from (10**-2.2, Kp) to (10**1, 10**-3.35)\n",
    "ax_mag.loglog([10**-4, 10**-2], [Kp, Kp]) # Green line from (10**-4, Kp) to (10**-2, Kp)\n",
    "\n",
    "for i in ωs: # These 5 are the chosen omegas\n",
    "    ax_mag.axvline(i) # Plot a vertical line at the chosen ω to see where it falls around the corner frequency\n",
    "    \n",
    "plt.show()"
   ]
  },
  {
   "cell_type": "markdown",
   "metadata": {},
   "source": [
    "- To find the runtime for the TCLab to get good results, we want at least 3 full sinusoidal periods. \n",
    "-  $P = \\frac{2\\pi}{\\omega}$\n",
    "- Calculate the period for each $\\omega$ and multiply it by 3 to get 3 full sinusoids.\n",
    "- Add 1000s for the TCLab to reach steady state"
   ]
  },
  {
   "cell_type": "code",
   "execution_count": 7,
   "metadata": {},
   "outputs": [],
   "source": [
    "P_list = [] # List of period values\n",
    "for ω_l in ωs: # These 5 are the chosen omegas\n",
    "    P_list.append(2*np.pi/ω_l)"
   ]
  },
  {
   "cell_type": "code",
   "execution_count": 8,
   "metadata": {},
   "outputs": [],
   "source": [
    "delay = 1"
   ]
  },
  {
   "cell_type": "code",
   "execution_count": 9,
   "metadata": {},
   "outputs": [
    {
     "data": {
      "text/plain": [
       "array([474.47943759, 377.09808584, 299.74532861, 238.30184951,\n",
       "       189.49555922])"
      ]
     },
     "execution_count": 9,
     "metadata": {},
     "output_type": "execute_result"
    }
   ],
   "source": [
    "time_span = np.array(P_list)*0.3 + delay\n",
    "time_span"
   ]
  },
  {
   "cell_type": "code",
   "execution_count": 10,
   "metadata": {},
   "outputs": [
    {
     "data": {
      "text/plain": [
       "('0:26:19.120261', 1579.1202607660002)"
      ]
     },
     "execution_count": 10,
     "metadata": {},
     "output_type": "execute_result"
    }
   ],
   "source": [
    "total_time_min = sum(time_span)\n",
    "str(datetime.timedelta(seconds=total_time_min)), total_time_min"
   ]
  },
  {
   "cell_type": "markdown",
   "metadata": {},
   "source": [
    "The highest value in this list is 5735s, therefore run all the of them for this time to avoid complication"
   ]
  },
  {
   "cell_type": "code",
   "execution_count": 11,
   "metadata": {},
   "outputs": [
    {
     "data": {
      "text/plain": [
       "('0:39:32.397188', 2372.3971879647124)"
      ]
     },
     "execution_count": 11,
     "metadata": {},
     "output_type": "execute_result"
    }
   ],
   "source": [
    "run_length = max(time_span)\n",
    "total_time = run_length*len(ωs)\n",
    "str(datetime.timedelta(seconds=total_time)), total_time"
   ]
  },
  {
   "cell_type": "code",
   "execution_count": null,
   "metadata": {},
   "outputs": [],
   "source": [
    "#time_span = array of run lengths in seconds"
   ]
  },
  {
   "cell_type": "code",
   "execution_count": 23,
   "metadata": {},
   "outputs": [
    {
     "data": {
      "image/png": "[encoded data removed]",
      "text/plain": [
       "<Figure size 640x240 with 2 Axes>"
      ]
     },
     "metadata": {},
     "output_type": "display_data"
    },
    {
     "name": "stdout",
     "output_type": "stream",
     "text": [
      "TCLab Model disconnected successfully.\n"
     ]
    },
    {
     "data": {
      "image/png": "[encoded data removed]",
      "text/plain": [
       "<Figure size 640x240 with 2 Axes>"
      ]
     },
     "metadata": {
      "needs_background": "light"
     },
     "output_type": "display_data"
    }
   ],
   "source": [
    "TCLab = tclab.setup(connected=False, speedup=100)\n",
    "omega_spans = []\n",
    "run_length_spans = []\n",
    "with TCLab() as lab:\n",
    "    sources = [('T1', lambda: lab.T1),\n",
    "                ('Q1', lambda: lab.U1)]\n",
    "    h = tclab.Historian(sources)\n",
    "    p = tclab.Plotter(h, total_time_min)\n",
    "    \n",
    "    t_passed = 0\n",
    "    \n",
    "    for omega, run_length in zip(ωs, time_span):\n",
    "        \n",
    "        for t in clock(run_length):\n",
    "            if t < delay:\n",
    "                Q1 = lab.Q1(15)\n",
    "            else:\n",
    "                Q1 = lab.Q1(float(15 + 5*np.sin(omega*t)))\n",
    "\n",
    "#             h.update(t + index*run_length) \n",
    "            print (omega, run_length)\n",
    "    \n",
    "            omega_spans.append(omega)\n",
    "            run_length_spans.append(run_length)\n",
    "            p.update(t + t_passed)# + index*run_length)\n",
    "        t_passed +=run_length"
   ]
  },
  {
   "cell_type": "code",
   "execution_count": 24,
   "metadata": {},
   "outputs": [
    {
     "data": {
      "text/plain": [
       "[(1, '2020-03-04 19:24:50', 1215)]"
      ]
     },
     "execution_count": 24,
     "metadata": {},
     "output_type": "execute_result"
    }
   ],
   "source": [
    "h.get_sessions()"
   ]
  },
  {
   "cell_type": "code",
   "execution_count": 25,
   "metadata": {},
   "outputs": [],
   "source": [
    "h.load_session(1)"
   ]
  },
  {
   "cell_type": "code",
   "execution_count": 29,
   "metadata": {},
   "outputs": [],
   "source": [
    "data = {\"Time\" : h.t, \"T1\" : h.logdict['T1'], \"Q1\" : h.logdict['Q1'], 'Omegas': omega_spans, 'Run Lengths' :run_length_spans}"
   ]
  },
  {
   "cell_type": "code",
   "execution_count": 30,
   "metadata": {},
   "outputs": [
    {
     "name": "stdout",
     "output_type": "stream",
     "text": [
      "1215\n",
      "1215\n",
      "1215\n",
      "1215\n",
      "1215\n"
     ]
    }
   ],
   "source": [
    "for entry in data:\n",
    "    print (len(data[entry]))"
   ]
  },
  {
   "cell_type": "code",
   "execution_count": 31,
   "metadata": {},
   "outputs": [],
   "source": [
    "data_frame = pd.DataFrame(data = data)\n",
    "data_frame.to_csv(\"Sinusoidals.csv\")"
   ]
  },
  {
   "cell_type": "code",
   "execution_count": 32,
   "metadata": {},
   "outputs": [
    {
     "data": {
      "text/html": [
       "<div>\n",
       "<style scoped>\n",
       "    .dataframe tbody tr th:only-of-type {\n",
       "        vertical-align: middle;\n",
       "    }\n",
       "\n",
       "    .dataframe tbody tr th {\n",
       "        vertical-align: top;\n",
       "    }\n",
       "\n",
       "    .dataframe thead th {\n",
       "        text-align: right;\n",
       "    }\n",
       "</style>\n",
       "<table border=\"1\" class=\"dataframe\">\n",
       "  <thead>\n",
       "    <tr style=\"text-align: right;\">\n",
       "      <th></th>\n",
       "      <th>Time</th>\n",
       "      <th>T1</th>\n",
       "      <th>Q1</th>\n",
       "      <th>Omegas</th>\n",
       "      <th>Run Lengths</th>\n",
       "    </tr>\n",
       "  </thead>\n",
       "  <tbody>\n",
       "    <tr>\n",
       "      <td>0</td>\n",
       "      <td>0.000000</td>\n",
       "      <td>20.9495</td>\n",
       "      <td>15.000000</td>\n",
       "      <td>0.003981</td>\n",
       "      <td>474.479438</td>\n",
       "    </tr>\n",
       "    <tr>\n",
       "      <td>1</td>\n",
       "      <td>21.000000</td>\n",
       "      <td>21.2718</td>\n",
       "      <td>15.417526</td>\n",
       "      <td>0.003981</td>\n",
       "      <td>474.479438</td>\n",
       "    </tr>\n",
       "    <tr>\n",
       "      <td>2</td>\n",
       "      <td>22.010000</td>\n",
       "      <td>21.2718</td>\n",
       "      <td>15.437557</td>\n",
       "      <td>0.003981</td>\n",
       "      <td>474.479438</td>\n",
       "    </tr>\n",
       "    <tr>\n",
       "      <td>3</td>\n",
       "      <td>23.010000</td>\n",
       "      <td>21.2718</td>\n",
       "      <td>15.457382</td>\n",
       "      <td>0.003981</td>\n",
       "      <td>474.479438</td>\n",
       "    </tr>\n",
       "    <tr>\n",
       "      <td>4</td>\n",
       "      <td>25.000000</td>\n",
       "      <td>21.5941</td>\n",
       "      <td>15.496813</td>\n",
       "      <td>0.003981</td>\n",
       "      <td>474.479438</td>\n",
       "    </tr>\n",
       "    <tr>\n",
       "      <td>...</td>\n",
       "      <td>...</td>\n",
       "      <td>...</td>\n",
       "      <td>...</td>\n",
       "      <td>...</td>\n",
       "      <td>...</td>\n",
       "    </tr>\n",
       "    <tr>\n",
       "      <td>1210</td>\n",
       "      <td>1573.634702</td>\n",
       "      <td>32.2300</td>\n",
       "      <td>19.819782</td>\n",
       "      <td>0.010000</td>\n",
       "      <td>189.495559</td>\n",
       "    </tr>\n",
       "    <tr>\n",
       "      <td>1211</td>\n",
       "      <td>1574.634702</td>\n",
       "      <td>32.2300</td>\n",
       "      <td>19.806238</td>\n",
       "      <td>0.010000</td>\n",
       "      <td>189.495559</td>\n",
       "    </tr>\n",
       "    <tr>\n",
       "      <td>1212</td>\n",
       "      <td>1576.624702</td>\n",
       "      <td>32.2300</td>\n",
       "      <td>19.777858</td>\n",
       "      <td>0.010000</td>\n",
       "      <td>189.495559</td>\n",
       "    </tr>\n",
       "    <tr>\n",
       "      <td>1213</td>\n",
       "      <td>1577.634702</td>\n",
       "      <td>32.2300</td>\n",
       "      <td>19.762729</td>\n",
       "      <td>0.010000</td>\n",
       "      <td>189.495559</td>\n",
       "    </tr>\n",
       "    <tr>\n",
       "      <td>1214</td>\n",
       "      <td>1578.624702</td>\n",
       "      <td>32.2300</td>\n",
       "      <td>19.747428</td>\n",
       "      <td>0.010000</td>\n",
       "      <td>189.495559</td>\n",
       "    </tr>\n",
       "  </tbody>\n",
       "</table>\n",
       "<p>1215 rows × 5 columns</p>\n",
       "</div>"
      ],
      "text/plain": [
       "             Time       T1         Q1    Omegas  Run Lengths\n",
       "0        0.000000  20.9495  15.000000  0.003981   474.479438\n",
       "1       21.000000  21.2718  15.417526  0.003981   474.479438\n",
       "2       22.010000  21.2718  15.437557  0.003981   474.479438\n",
       "3       23.010000  21.2718  15.457382  0.003981   474.479438\n",
       "4       25.000000  21.5941  15.496813  0.003981   474.479438\n",
       "...           ...      ...        ...       ...          ...\n",
       "1210  1573.634702  32.2300  19.819782  0.010000   189.495559\n",
       "1211  1574.634702  32.2300  19.806238  0.010000   189.495559\n",
       "1212  1576.624702  32.2300  19.777858  0.010000   189.495559\n",
       "1213  1577.634702  32.2300  19.762729  0.010000   189.495559\n",
       "1214  1578.624702  32.2300  19.747428  0.010000   189.495559\n",
       "\n",
       "[1215 rows x 5 columns]"
      ]
     },
     "execution_count": 32,
     "metadata": {},
     "output_type": "execute_result"
    }
   ],
   "source": [
    "data_frame"
   ]
  },
  {
   "cell_type": "code",
   "execution_count": null,
   "metadata": {},
   "outputs": [],
   "source": []
  }
 ],
 "metadata": {
  "kernelspec": {
   "display_name": "Python 3",
   "language": "python",
   "name": "python3"
  },
  "language_info": {
   "codemirror_mode": {
    "name": "ipython",
    "version": 3
   },
   "file_extension": ".py",
   "mimetype": "text/x-python",
   "name": "python",
   "nbconvert_exporter": "python",
   "pygments_lexer": "ipython3",
   "version": "3.7.4"
  }
 },
 "nbformat": 4,
 "nbformat_minor": 4
}
