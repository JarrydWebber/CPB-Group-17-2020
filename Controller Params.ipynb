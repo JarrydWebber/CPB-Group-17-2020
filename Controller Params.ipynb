{
 "cells": [
  {
   "cell_type": "markdown",
   "metadata": {},
   "source": [
    "# Cohen Coon"
   ]
  },
  {
   "cell_type": "code",
   "execution_count": 1,
   "metadata": {},
   "outputs": [],
   "source": [
    "#P controller\n",
    "\n",
    "def cohen_coon(selection, var):\n",
    "    Kp, τ, θ = var\n",
    "    if selection == 'P':\n",
    "        Kc = (1.03/Kp)*(τ/θ + 0.34)\n",
    "        τI = 0\n",
    "        τd = 0 \n",
    "        return Kc, τI, τd\n",
    "\n",
    "#PI controller\n",
    "    if selection == 'PI':\n",
    "        Kc = (0.9/Kp)*(τ/θ + 0.092)\n",
    "        τI = (3.33*θ)*((τ + 0.092*θ)/(τ + 2.22*θ))\n",
    "        τd = 0\n",
    "        return Kc, τI, τd\n",
    "\n",
    "\n",
    "#PD controller\n",
    "    if selection == 'PD':\n",
    "        Kc = (1.24/Kp)*(τ/θ + 0.129)\n",
    "        τI = 0\n",
    "        τd = 0.27*θ*((τ - 0.324*θ)/(τ + 0.129*θ))\n",
    "        return Kc, τI, τd\n",
    "\n",
    "#PID controller\n",
    "    if selection == 'PID':\n",
    "        Kc = (1.35/Kp)*(τ/θ + 0.185)\n",
    "        τI = 2.25*θ*((τ + 0.185*θ)/(τ + 0.611*θ))\n",
    "        τd = 0.37*θ*(τ/(τ + 0.185*θ))\n",
    "        return Kc, τI, τd"
   ]
  },
  {
   "cell_type": "markdown",
   "metadata": {},
   "source": [
    "# IAE controller"
   ]
  },
  {
   "cell_type": "code",
   "execution_count": 2,
   "metadata": {},
   "outputs": [],
   "source": [
    "def IAE(selection, tuning, var):\n",
    "#disturbance\n",
    "    if selection == 'P' and tuning == 'disturbance':\n",
    "        # P\n",
    "        Kc = (0.902/Kp)*(θ/τ)**-0.985\n",
    "        τI = 0\n",
    "        τd = 0\n",
    "        return Kc, τI, τd\n",
    "\n",
    "    if selection == 'PI' and tuning == 'disturbance':\n",
    "        # PI\n",
    "        Kc = (0.984/Kp)*(θ/τ)**-0.986\n",
    "        τI = (τ/0.608)*(θ/τ)**0.707\n",
    "        τd = 0\n",
    "        return Kc, τI, τd\n",
    "\n",
    "    if selection == 'PID' and tuning == 'disturbance':\n",
    "        # PID\n",
    "        Kc = (1.435/K)*(θ/τ)**-0.921\n",
    "        τI = (τ/0.878)*(θ/τ)**0.749\n",
    "        τd = 0.482*τ*(θ/τ)**1.137\n",
    "        return Kc, τI, τd\n",
    "\n",
    "#setpoints\n",
    "    if selection == 'PI' and tuning == 'set point':   \n",
    "        # PI\n",
    "        Kc = (0.758/Kp)*(θ/τ)**-0.861\n",
    "        τI = τ/(1.02 - 0.323*(θ/τ))\n",
    "        τd = 0\n",
    "        return Kc, τI, τd\n",
    "\n",
    "\n",
    "    if selection == 'PID' and tuning == 'set point':\n",
    "        # PID\n",
    "        Kc = (1.086/K)*(θ/τ)**-0.869\n",
    "        τI = τ/(0.740 - 0.130*(θ/τ))\n",
    "        τd = 0.348*τ*(θ/τ)**0.914\n",
    "        return Kc, τI, τd"
   ]
  },
  {
   "cell_type": "code",
   "execution_count": null,
   "metadata": {},
   "outputs": [],
   "source": []
  },
  {
   "cell_type": "code",
   "execution_count": null,
   "metadata": {},
   "outputs": [],
   "source": []
  }
 ],
 "metadata": {
  "kernelspec": {
   "display_name": "Python 3",
   "language": "python",
   "name": "python3"
  },
  "language_info": {
   "codemirror_mode": {
    "name": "ipython",
    "version": 3
   },
   "file_extension": ".py",
   "mimetype": "text/x-python",
   "name": "python",
   "nbconvert_exporter": "python",
   "pygments_lexer": "ipython3",
   "version": "3.7.3"
  }
 },
 "nbformat": 4,
 "nbformat_minor": 2
}
