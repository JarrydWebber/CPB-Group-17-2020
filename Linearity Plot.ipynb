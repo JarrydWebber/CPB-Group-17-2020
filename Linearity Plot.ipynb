{
 "cells": [
  {
   "cell_type": "code",
   "execution_count": 1,
   "metadata": {},
   "outputs": [],
   "source": [
    "from latex_figure import plotfigure\n",
    "import numpy\n",
    "import pandas"
   ]
  },
  {
   "cell_type": "code",
   "execution_count": 2,
   "metadata": {},
   "outputs": [],
   "source": [
    "aspect_ratio = 4 / 5\n",
    "FULLSIZE = 5, 5 * aspect_ratio\n",
    "HALFSIZE = 3, 3 * aspect_ratio"
   ]
  },
  {
   "cell_type": "code",
   "execution_count": 3,
   "metadata": {},
   "outputs": [],
   "source": [
    "filename = \"Overall Linearity.pdf\""
   ]
  },
  {
   "cell_type": "code",
   "execution_count": 4,
   "metadata": {},
   "outputs": [],
   "source": [
    "full_range = pandas.read_csv('long_span_run 20200226 overnight')"
   ]
  },
  {
   "cell_type": "code",
   "execution_count": 5,
   "metadata": {},
   "outputs": [],
   "source": [
    "middle_range = pandas.read_csv('long_span_run 20200227 overnight.csv')"
   ]
  },
  {
   "cell_type": "code",
   "execution_count": 6,
   "metadata": {},
   "outputs": [],
   "source": [
    "Q1 = 0\n",
    "\n",
    "q_full = []\n",
    "T_full = []\n",
    "\n",
    "for index, row in full_range.iterrows():\n",
    "#     print (index)\n",
    "    if row['Q1'] != Q1:\n",
    "        Q1 = row['Q1']\n",
    "        \n",
    "#         print (full_range.iloc[index-1])\n",
    "        \n",
    "        q_full.append(full_range.iloc[index-1]['Q1'])\n",
    "        T_full.append(full_range.iloc[index-1]['T1'])\n",
    "q_full.append(full_range.iloc[-1]['Q1'])\n",
    "T_full.append(full_range.iloc[-1]['T1'])"
   ]
  },
  {
   "cell_type": "code",
   "execution_count": 7,
   "metadata": {},
   "outputs": [],
   "source": [
    "Q1 = 50\n",
    "\n",
    "q_middle = []\n",
    "T_middle = []\n",
    "\n",
    "for index, row in middle_range.iterrows():\n",
    "#     print (index)\n",
    "    if row['Q1'] != Q1:\n",
    "        Q1 = row['Q1']\n",
    "        \n",
    "#         print (middle_range.iloc[index-1])\n",
    "        \n",
    "        q_middle.append(middle_range.iloc[index-1]['Q1'])\n",
    "        T_middle.append(middle_range.iloc[index-1]['T1'])\n",
    "q_middle.append(middle_range.iloc[-1]['Q1'])\n",
    "T_middle.append(middle_range.iloc[-1]['T1'])"
   ]
  },
  {
   "cell_type": "code",
   "execution_count": 8,
   "metadata": {},
   "outputs": [],
   "source": [
    "qs = [q_full, q_middle, [q_full[0], q_full[-1]]]\n",
    "Ts = [T_full, T_middle, [T_full[0], T_full[-1]]]"
   ]
  },
  {
   "cell_type": "code",
   "execution_count": 9,
   "metadata": {},
   "outputs": [],
   "source": [
    "Linetypes = ['ro','go', 'b']\n",
    "\n",
    "x_label = 'Q1 Value'\n",
    "y_label = 'T1 Steady State'\n",
    "\n",
    "YNAMES = ['Full Range', 'Around 50', 'Linear']\n",
    "\n",
    "filename = \"Linearity Figure.pdf\""
   ]
  },
  {
   "cell_type": "code",
   "execution_count": 10,
   "metadata": {},
   "outputs": [
    {
     "data": {
      "image/png": "[encoded data removed]",
      "text/plain": [
       "<Figure size 360x288 with 1 Axes>"
      ]
     },
     "metadata": {
      "needs_background": "light"
     },
     "output_type": "display_data"
    }
   ],
   "source": [
    "plotfigure(qs, Ts, YNAMES, Linetypes, x_label, y_label ,FULLSIZE, filename, diff=False, legend=False)"
   ]
  },
  {
   "cell_type": "code",
   "execution_count": null,
   "metadata": {},
   "outputs": [],
   "source": []
  },
  {
   "cell_type": "code",
   "execution_count": null,
   "metadata": {},
   "outputs": [],
   "source": []
  }
 ],
 "metadata": {
  "kernelspec": {
   "display_name": "Python 3",
   "language": "python",
   "name": "python3"
  },
  "language_info": {
   "codemirror_mode": {
    "name": "ipython",
    "version": 3
   },
   "file_extension": ".py",
   "mimetype": "text/x-python",
   "name": "python",
   "nbconvert_exporter": "python",
   "pygments_lexer": "ipython3",
   "version": "3.7.4"
  }
 },
 "nbformat": 4,
 "nbformat_minor": 4
}
