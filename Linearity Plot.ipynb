{
 "cells": [
  {
   "cell_type": "code",
   "execution_count": 1,
   "metadata": {},
   "outputs": [],
   "source": [
    "from latex_figure import plotfigure\n",
    "import numpy\n",
    "import pandas\n",
    "from scipy.stats import linregress"
   ]
  },
  {
   "cell_type": "code",
   "execution_count": 2,
   "metadata": {},
   "outputs": [],
   "source": [
    "aspect_ratio = 4 / 5\n",
    "FULLSIZE = 5, 5 * aspect_ratio\n",
    "HALFSIZE = 3, 3 * aspect_ratio"
   ]
  },
  {
   "cell_type": "code",
   "execution_count": 3,
   "metadata": {},
   "outputs": [],
   "source": [
    "filename = \"Overall Linearity.pdf\""
   ]
  },
  {
   "cell_type": "code",
   "execution_count": 4,
   "metadata": {},
   "outputs": [],
   "source": [
    "full_range = pandas.read_csv('long_span_run 20200226 overnight')"
   ]
  },
  {
   "cell_type": "code",
   "execution_count": 5,
   "metadata": {},
   "outputs": [],
   "source": [
    "middle_range = pandas.read_csv('long_span_run 20200227 overnight.csv')"
   ]
  },
  {
   "cell_type": "code",
   "execution_count": 6,
   "metadata": {},
   "outputs": [],
   "source": [
    "Q1 = 0\n",
    "\n",
    "q_full = []\n",
    "T_full = []\n",
    "\n",
    "for index, row in full_range.iterrows():\n",
    "#     print (index)\n",
    "    if row['Q1'] != Q1:\n",
    "        Q1 = row['Q1']\n",
    "        \n",
    "#         print (full_range.iloc[index-1])\n",
    "        \n",
    "        q_full.append(full_range.iloc[index-1]['Q1'])\n",
    "        T_full.append(full_range.iloc[index-1]['T1'])\n",
    "q_full.append(full_range.iloc[-1]['Q1'])\n",
    "T_full.append(full_range.iloc[-1]['T1'])"
   ]
  },
  {
   "cell_type": "code",
   "execution_count": 7,
   "metadata": {},
   "outputs": [],
   "source": [
    "Q1 = 50\n",
    "\n",
    "q_middle = []\n",
    "T_middle = []\n",
    "\n",
    "for index, row in middle_range.iterrows():\n",
    "#     print (index)\n",
    "    if row['Q1'] != Q1:\n",
    "        Q1 = row['Q1']\n",
    "        \n",
    "#         print (middle_range.iloc[index-1])\n",
    "        \n",
    "        q_middle.append(middle_range.iloc[index-1]['Q1'])\n",
    "        T_middle.append(middle_range.iloc[index-1]['T1'])\n",
    "# q_middle.append(middle_range.iloc[-1]['Q1'])\n",
    "# T_middle.append(middle_range.iloc[-1]['T1'])"
   ]
  },
  {
   "cell_type": "code",
   "execution_count": 8,
   "metadata": {},
   "outputs": [
    {
     "name": "stdout",
     "output_type": "stream",
     "text": [
      "0.9979193487629677 LinregressResult(slope=0.6399181818181818, intercept=24.334090909090907, rvalue=0.998959132679094, pvalue=2.2133308190981842e-13, stderr=0.00973991390439387)\n"
     ]
    }
   ],
   "source": [
    "linreg_fit = linregress(q_full, T_full)\n",
    "print(linreg_fit.rvalue**2, linreg_fit)"
   ]
  },
  {
   "cell_type": "code",
   "execution_count": 9,
   "metadata": {},
   "outputs": [],
   "source": [
    "line_100 = linreg_fit.slope*100 + linreg_fit.intercept\n",
    "line_0 = linreg_fit.slope*0 + linreg_fit.intercept"
   ]
  },
  {
   "cell_type": "code",
   "execution_count": 10,
   "metadata": {},
   "outputs": [],
   "source": [
    "qs = [q_full,  [0, 100]] #q_middle,\n",
    "Ts = [T_full,  [line_0, line_100]] #T_middle,"
   ]
  },
  {
   "cell_type": "code",
   "execution_count": 11,
   "metadata": {},
   "outputs": [],
   "source": [
    "Linetypes = ['ro','b', 'b']\n",
    "\n",
    "x_label = 'Q1 Value (%)'\n",
    "y_label = 'T1 Steady State (\\u00B0C)'\n",
    "\n",
    "YNAMES = ['Full Range', 'Around 50', 'Linear']\n",
    "\n",
    "filename = \"Linearity Figure.pdf\""
   ]
  },
  {
   "cell_type": "code",
   "execution_count": 12,
   "metadata": {},
   "outputs": [
    {
     "data": {
      "image/png": "[encoded data removed]",
      "text/plain": [
       "<Figure size 360x288 with 1 Axes>"
      ]
     },
     "metadata": {
      "needs_background": "light"
     },
     "output_type": "display_data"
    }
   ],
   "source": [
    "plotfigure(qs, Ts, YNAMES, Linetypes, x_label, y_label ,FULLSIZE, filename, diff=False, legend=False)"
   ]
  },
  {
   "cell_type": "code",
   "execution_count": 13,
   "metadata": {},
   "outputs": [
    {
     "name": "stdout",
     "output_type": "stream",
     "text": [
      "0.9879288230029681 LinregressResult(slope=0.6487371338083925, intercept=26.67526128266034, rvalue=0.9939460865675603, pvalue=8.358130966211244e-16, stderr=0.018515485702255446)\n"
     ]
    }
   ],
   "source": [
    "linreg_fit = linregress(q_middle, T_middle)\n",
    "\n",
    "print(linreg_fit.rvalue**2, linreg_fit)"
   ]
  },
  {
   "cell_type": "code",
   "execution_count": 14,
   "metadata": {},
   "outputs": [],
   "source": [
    "line_60 = linreg_fit.slope*60 + linreg_fit.intercept\n",
    "line_40 = linreg_fit.slope*40 + linreg_fit.intercept"
   ]
  },
  {
   "cell_type": "code",
   "execution_count": 18,
   "metadata": {},
   "outputs": [],
   "source": [
    "qs = [q_middle,  [40, 60]] #q_middle,\n",
    "Ts = [T_middle,  [line_40, line_60]] #T_middle,"
   ]
  },
  {
   "cell_type": "code",
   "execution_count": 19,
   "metadata": {},
   "outputs": [],
   "source": [
    "Linetypes = ['ro','b', 'b']\n",
    "\n",
    "x_label = 'Q1 Value (%)'\n",
    "y_label = 'T1 Steady State (\\u00B0C)'\n",
    "\n",
    "YNAMES = ['Full Range', 'Around 50', 'Linear']\n",
    "\n",
    "filename = \"Linearity Figure Middle.pdf\""
   ]
  },
  {
   "cell_type": "code",
   "execution_count": 20,
   "metadata": {},
   "outputs": [
    {
     "data": {
      "image/png": "[encoded data removed]",
      "text/plain": [
       "<Figure size 360x288 with 1 Axes>"
      ]
     },
     "metadata": {
      "needs_background": "light"
     },
     "output_type": "display_data"
    }
   ],
   "source": [
    "plotfigure(qs, Ts, YNAMES, Linetypes, x_label, y_label ,FULLSIZE, filename, diff=False, legend=False)"
   ]
  },
  {
   "cell_type": "code",
   "execution_count": null,
   "metadata": {},
   "outputs": [],
   "source": []
  }
 ],
 "metadata": {
  "kernelspec": {
   "display_name": "Python 3",
   "language": "python",
   "name": "python3"
  },
  "language_info": {
   "codemirror_mode": {
    "name": "ipython",
    "version": 3
   },
   "file_extension": ".py",
   "mimetype": "text/x-python",
   "name": "python",
   "nbconvert_exporter": "python",
   "pygments_lexer": "ipython3",
   "version": "3.7.4"
  }
 },
 "nbformat": 4,
 "nbformat_minor": 4
}
