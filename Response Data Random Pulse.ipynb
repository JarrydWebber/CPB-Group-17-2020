{
 "cells": [
  {
   "cell_type": "markdown",
   "metadata": {},
   "source": [
    "#### In this tutorial we will be characterising the frequency response of your TCLab unit. \n",
    "\n",
    "- Plot a Bode diagram of the FOPDT model you fit to your TCLab for the project\n",
    "- Subject your TCLab sinusoidal variation of Q1 (Q₁ = Q̅ + Asin(ωt)) for at least 5 different values of ω chosen to be on both sides of the corner frequency of your FOPDT model.\n",
    "- Find the amplitude ratio and phase angle for the responses to sinusoidal forcing and plot them as dots on your Bode diagram.\n",
    "- Now subject your TCLab to a random set of pulses with long enough constant parts that the temperature has time to respond.\n",
    "- Use the input Q1 and the output T1 together with numpy.fft.rfft to determine a numeric estimate of the frequency response. Plot this on the same graph as before.\n",
    "\n",
    "Once you have characterised the open loop response of your unit, use the frequency response to find the largest gain that can be used for a PI controller with a time constant of 100 seconds (use the Bode stability criterion). Compare this to the answer you obtained in Tut 2. Was this process easier or harder than Tut 2? Which was more accurate?\n",
    "\n",
    "#### Submit\n",
    "\n",
    "- code in a notebook which you used to produce the response data\n",
    "- code in a notebook which can be run to produce your resulting bode diagrams (note this should be separate).\n",
    "- the data required to run the notebook above (your notebook should not require the TCLab to be connected).\n",
    "- A two page report with graphs showing the results of your bode diagrams (system and system with controller) and including a brief discussion."
   ]
  },
  {
   "cell_type": "code",
   "execution_count": 1,
   "metadata": {},
   "outputs": [],
   "source": [
    "import tclab\n",
    "from tclab import Plotter, clock, Historian\n",
    "import datetime\n",
    "\n",
    "import random\n",
    "\n",
    "import numpy as np\n",
    "import tbcontrol\n",
    "from tbcontrol import blocksim\n",
    "\n",
    "import matplotlib.pyplot as plt\n",
    "import pandas as pd"
   ]
  },
  {
   "cell_type": "code",
   "execution_count": 2,
   "metadata": {},
   "outputs": [],
   "source": [
    "import numpy as np\n",
    "import scipy\n",
    "import matplotlib.pyplot as plt\n",
    "%matplotlib inline"
   ]
  },
  {
   "cell_type": "code",
   "execution_count": 3,
   "metadata": {},
   "outputs": [],
   "source": [
    "min_time = 50\n",
    "limmit = 60*60*2\n",
    "Qlower = 0\n",
    "Qhigh = 100\n",
    "start_delay = 300"
   ]
  },
  {
   "cell_type": "code",
   "execution_count": 4,
   "metadata": {},
   "outputs": [],
   "source": [
    "time_span = [start_delay]\n",
    "total_time = start_delay\n",
    "while total_time<= limmit:\n",
    "    time_random = random.randint(min_time, min_time*6)\n",
    "    total_time += time_random\n",
    "    time_span.append(time_random)"
   ]
  },
  {
   "cell_type": "code",
   "execution_count": 5,
   "metadata": {},
   "outputs": [],
   "source": [
    "#time_span = array of run lengths in seconds"
   ]
  },
  {
   "cell_type": "code",
   "execution_count": null,
   "metadata": {},
   "outputs": [
    {
     "data": {
      "image/png": "[encoded data removed]",
      "text/plain": [
       "<Figure size 640x240 with 2 Axes>"
      ]
     },
     "metadata": {},
     "output_type": "display_data"
    }
   ],
   "source": [
    "run_length_spans = []\n",
    "conned = True\n",
    "\n",
    "with tclab.Experiment(connected = conned, synced = conned, plot = False) as ex:\n",
    "    \n",
    "    sources = [('T1', lambda: ex.lab.T1),\n",
    "                ('Q1', lambda: ex.lab.U1)]\n",
    "    \n",
    "    h = tclab.Historian(sources)\n",
    "    p = tclab.Plotter(h, total_time)\n",
    "    \n",
    "    t_passed = 0\n",
    "    \n",
    "    for index,run_length in enumerate(time_span):\n",
    "        \n",
    "        ex.time = run_length\n",
    "        \n",
    "        for t in ex.clock():\n",
    "            \n",
    "            Q = Qhigh if index%2 ==0 else Qlower\n",
    "            \n",
    "            ex.lab.Q1(Q)\n",
    "            \n",
    "#             print (run_length, Q, t)\n",
    "            run_length_spans.append(run_length)\n",
    "            p.update(t + t_passed)# + index*run_length)\n",
    "            \n",
    "        t_passed += run_length"
   ]
  },
  {
   "cell_type": "code",
   "execution_count": null,
   "metadata": {},
   "outputs": [],
   "source": [
    "h.get_sessions()"
   ]
  },
  {
   "cell_type": "code",
   "execution_count": null,
   "metadata": {},
   "outputs": [],
   "source": [
    "h.load_session(1)"
   ]
  },
  {
   "cell_type": "code",
   "execution_count": null,
   "metadata": {},
   "outputs": [],
   "source": [
    "data = {\"Time\" : h.t, \"T1\" : h.logdict['T1'], \"Q1\" : h.logdict['Q1']}"
   ]
  },
  {
   "cell_type": "code",
   "execution_count": null,
   "metadata": {},
   "outputs": [],
   "source": [
    "for entry in data:\n",
    "    print (len(data[entry]))"
   ]
  },
  {
   "cell_type": "code",
   "execution_count": null,
   "metadata": {},
   "outputs": [],
   "source": [
    "data_frame = pd.DataFrame(data = data)\n",
    "data_frame.to_csv(\"Pulses Real.csv\")"
   ]
  },
  {
   "cell_type": "code",
   "execution_count": null,
   "metadata": {},
   "outputs": [],
   "source": [
    "data_frame.plot(y = \"T1\")\n",
    "data_frame.plot(y = \"Q1\")"
   ]
  },
  {
   "cell_type": "code",
   "execution_count": null,
   "metadata": {},
   "outputs": [],
   "source": []
  },
  {
   "cell_type": "code",
   "execution_count": null,
   "metadata": {},
   "outputs": [],
   "source": []
  }
 ],
 "metadata": {
  "kernelspec": {
   "display_name": "Python 3",
   "language": "python",
   "name": "python3"
  },
  "language_info": {
   "codemirror_mode": {
    "name": "ipython",
    "version": 3
   },
   "file_extension": ".py",
   "mimetype": "text/x-python",
   "name": "python",
   "nbconvert_exporter": "python",
   "pygments_lexer": "ipython3",
   "version": "3.7.4"
  }
 },
 "nbformat": 4,
 "nbformat_minor": 4
}
