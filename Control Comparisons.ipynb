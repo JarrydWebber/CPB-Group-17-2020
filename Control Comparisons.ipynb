{
 "cells": [
  {
   "cell_type": "code",
   "execution_count": 1,
   "metadata": {},
   "outputs": [],
   "source": [
    "import tclab\n",
    "import numpy\n",
    "import pandas\n",
    "\n",
    "import tbcontrol\n",
    "from tbcontrol import blocksim\n",
    "\n",
    "import matplotlib.pyplot as plt\n",
    "from latex_figure import plotfigure\n",
    "\n",
    "import datetime"
   ]
  },
  {
   "cell_type": "markdown",
   "metadata": {},
   "source": [
    "# Parameter Functions"
   ]
  },
  {
   "cell_type": "code",
   "execution_count": 2,
   "metadata": {},
   "outputs": [],
   "source": [
    "def cohen_coon(controller_type, parameters):\n",
    "    K, tau, theta =  parameters\n",
    "    \n",
    "    if controller_type == 'P':\n",
    "        Kc = (1.03/K)*(tau/theta + 0.34)\n",
    "        return Kc\n",
    "\n",
    "#PI controller\n",
    "    if controller_type == 'PI':\n",
    "        Kc = (0.9/K)*(tau/theta + 0.092)\n",
    "        tauI = (3.33*theta)*((tau + 0.092*theta)/(tau + 2.22*theta))\n",
    "        return Kc, tauI\n",
    "\n",
    "\n",
    "#PD controller\n",
    "    if controller_type == 'PD':\n",
    "        Kc = (1.24/K)*(tau/theta + 0.129)\n",
    "        taud = 0.27*theta*((tau - 0.324*theta)/(tau + 0.129*theta))\n",
    "        α = 2\n",
    "        return Kc, taud, α\n",
    "\n",
    "#PID controller\n",
    "    if controller_type == 'PID':\n",
    "        Kc = (1.35/K)*(tau/theta + 0.185)\n",
    "        tauI = 2.5*theta*((tau + 0.185*theta)/(tau + 0.611*theta))\n",
    "        taud = 0.37*theta*(tau/(tau + 0.185*theta))\n",
    "        return Kc, tauI, taud"
   ]
  },
  {
   "cell_type": "code",
   "execution_count": 3,
   "metadata": {},
   "outputs": [],
   "source": [
    "def IAE_setpoints(controller_type, parameters):\n",
    "    K, tau, theta = parameters\n",
    "#setpoints\n",
    "    if controller_type == 'PI':   \n",
    "        # PI\n",
    "        Kc = (0.758/K)*(theta/tau)**-0.861\n",
    "        tauI = tau/(1.02 - 0.323*(theta/tau))\n",
    "        return Kc, tauI\n",
    "\n",
    "\n",
    "    if controller_type == 'PID':\n",
    "        # PID\n",
    "        Kc = (1.086/K)*(theta/tau)**-0.869\n",
    "        tauI = tau/(0.740 - 0.130*(theta/tau))\n",
    "        taud = 0.348*tau*(theta/tau)**0.914\n",
    "        return Kc, tauI, taud"
   ]
  },
  {
   "cell_type": "code",
   "execution_count": 4,
   "metadata": {},
   "outputs": [],
   "source": [
    "def IAE_disturbances(controller_type, parameters):\n",
    "    K, tau , theta = parameters\n",
    "#disturbance\n",
    "    if controller_type == 'P':\n",
    "        # P\n",
    "        Kc = (0.902/K)*(theta/tau)**-0.985\n",
    "        return Kc\n",
    "    \n",
    "    if controller_type == 'PI':\n",
    "        # PI\n",
    "        Kc = (0.984/K)*(theta/tau)**-0.986\n",
    "        tauI = (tau/0.608)*(theta/tau)**0.707\n",
    "        return Kc, tauI\n",
    "\n",
    "    if controller_type == 'PID':\n",
    "        # PID\n",
    "        Kc = (1.435/K)*(theta/tau)**-0.921\n",
    "        tauI = (tau/0.878)*(theta/tau)**0.749\n",
    "        taud = 0.482*tau*(theta/tau)**1.137\n",
    "        return Kc, tauI, taud"
   ]
  },
  {
   "cell_type": "markdown",
   "metadata": {},
   "source": [
    "# Block Sim Creation"
   ]
  },
  {
   "cell_type": "code",
   "execution_count": 5,
   "metadata": {},
   "outputs": [],
   "source": [
    "def controller_block(controller_type, parameters):\n",
    "    \n",
    "    if controller_type == 'P':\n",
    "        Kc_P = parameters\n",
    "        Gc_P = blocksim.LTI('Gc_P', 'e', 'Q', Kc_P, 1)\n",
    "        return Gc_P\n",
    "    \n",
    "    if controller_type == 'PI':\n",
    "        Kc_PI, tauI_PI = parameters\n",
    "        Gc_PI = blocksim.PI('Gc_PI','e','Q', Kc_PI, tauI_PI)\n",
    "        return Gc_PI\n",
    "    \n",
    "    if controller_type == 'PD':\n",
    "        Kc_PD, tauD_PD, α = parameters\n",
    "        Gc_PD = blocksim.LTI('Gc_PD','e','Q', [Kc_PD * tauD_PD * (α + 1), Kc_PD], [tauD_PD * α, 1]) \n",
    "        # Used the α term for physical realizability - Textbook eq 7-12 pg 129\n",
    "        return Gc_PD\n",
    "    \n",
    "    if controller_type == 'PID':\n",
    "        Kc_PID, tauI_PID, tauD_PID = parameters\n",
    "        Gc_PID = blocksim.PID('Gc_PID', 'e', 'Q', Kc_PID, tauI_PID, tauD_PID)\n",
    "        return Gc_PID"
   ]
  },
  {
   "cell_type": "code",
   "execution_count": 6,
   "metadata": {},
   "outputs": [],
   "source": [
    "def system_block(parameters):\n",
    "    K, tau, theta = parameters\n",
    "    Gp = blocksim.LTI('Gp', 'Q', 'Tp', K, [tau, 1], theta) # Block of the system FOPDT model\n",
    "    return Gp"
   ]
  },
  {
   "cell_type": "markdown",
   "metadata": {},
   "source": [
    "# Params"
   ]
  },
  {
   "cell_type": "code",
   "execution_count": 7,
   "metadata": {},
   "outputs": [],
   "source": [
    "K = 0.6423177737615754\n",
    "tau = 150.3121523254063\n",
    "theta = 17.396993066317368"
   ]
  },
  {
   "cell_type": "code",
   "execution_count": 8,
   "metadata": {},
   "outputs": [],
   "source": [
    "params = [K, tau, theta]"
   ]
  },
  {
   "cell_type": "code",
   "execution_count": 9,
   "metadata": {},
   "outputs": [],
   "source": [
    "controller_types = ['P', 'PI', 'PID']\n",
    "IAE_Set = ['PI', 'PID']\n",
    "IAE_Dis = ['P', 'PI', 'PID']\n",
    "Names = ['CC P', 'CC PI', 'CC PID', 'IAE Setpoint PI', 'IAE Setpoint PID', 'IAE Distrurbance P', 'IAE Distrurbance PI', 'IAE Distrurbance PID']"
   ]
  },
  {
   "cell_type": "code",
   "execution_count": 10,
   "metadata": {},
   "outputs": [],
   "source": [
    "integral_steps = 10"
   ]
  },
  {
   "cell_type": "code",
   "execution_count": 11,
   "metadata": {},
   "outputs": [],
   "source": [
    "run_length = 200"
   ]
  },
  {
   "cell_type": "markdown",
   "metadata": {},
   "source": [
    "# Runs"
   ]
  },
  {
   "cell_type": "code",
   "execution_count": 12,
   "metadata": {},
   "outputs": [],
   "source": [
    "Gp = system_block(params)"
   ]
  },
  {
   "cell_type": "code",
   "execution_count": 13,
   "metadata": {},
   "outputs": [],
   "source": [
    "all_controller_blocks = []\n",
    "\n",
    "for controller in controller_types:\n",
    "    Gc = controller_block(controller, cohen_coon(controller, params))\n",
    "    all_controller_blocks.append(Gc)\n",
    "\n",
    "for controller in IAE_Set:\n",
    "    Gc = controller_block(controller, IAE_setpoints(controller, params))\n",
    "    all_controller_blocks.append(Gc)\n",
    "\n",
    "for controller in IAE_Dis:\n",
    "    Gc = controller_block(controller, IAE_disturbances(controller, params))\n",
    "    all_controller_blocks.append(Gc)  "
   ]
  },
  {
   "cell_type": "code",
   "execution_count": 14,
   "metadata": {},
   "outputs": [
    {
     "data": {
      "text/plain": [
       "[LTI: e →[ Gc_P ]→ Q,\n",
       " PI: e →[ Gc_PI ]→ Q,\n",
       " PID: e →[ Gc_PID ]→ Q,\n",
       " PI: e →[ Gc_PI ]→ Q,\n",
       " PID: e →[ Gc_PID ]→ Q,\n",
       " LTI: e →[ Gc_P ]→ Q,\n",
       " PI: e →[ Gc_PI ]→ Q,\n",
       " PID: e →[ Gc_PID ]→ Q]"
      ]
     },
     "execution_count": 14,
     "metadata": {},
     "output_type": "execute_result"
    }
   ],
   "source": [
    "all_controller_blocks# = [all_controller_blocks[0]]"
   ]
  },
  {
   "cell_type": "code",
   "execution_count": 15,
   "metadata": {},
   "outputs": [],
   "source": [
    "total_time = run_length*len(all_controller_blocks)"
   ]
  },
  {
   "cell_type": "code",
   "execution_count": 16,
   "metadata": {},
   "outputs": [
    {
     "data": {
      "text/plain": [
       "('0:26:40', 1600)"
      ]
     },
     "execution_count": 16,
     "metadata": {},
     "output_type": "execute_result"
    }
   ],
   "source": [
    "str(datetime.timedelta(seconds=total_time)), total_time"
   ]
  },
  {
   "cell_type": "code",
   "execution_count": 17,
   "metadata": {},
   "outputs": [
    {
     "name": "stdout",
     "output_type": "stream",
     "text": [
      "TCLab version 0.4.9\n",
      "--- Serial Ports ---\n",
      "/dev/cu.MH1-COM3-1 n/a n/a\n",
      "/dev/cu.Bluetooth-Incoming-Port n/a n/a\n",
      "/dev/cu.HasansAirPods-Wirelessi-2 n/a n/a\n"
     ]
    },
    {
     "ename": "RuntimeError",
     "evalue": "No Arduino device found.",
     "output_type": "error",
     "traceback": [
      "\u001b[0;31m---------------------------------------------------------------------------\u001b[0m",
      "\u001b[0;31mRuntimeError\u001b[0m                              Traceback (most recent call last)",
      "\u001b[0;32m<ipython-input-17-9fd081bc7315>\u001b[0m in \u001b[0;36m<module>\u001b[0;34m\u001b[0m\n\u001b[1;32m      1\u001b[0m \u001b[0mTCLab\u001b[0m \u001b[0;34m=\u001b[0m \u001b[0mtclab\u001b[0m\u001b[0;34m.\u001b[0m\u001b[0msetup\u001b[0m\u001b[0;34m(\u001b[0m\u001b[0mconnected\u001b[0m\u001b[0;34m=\u001b[0m\u001b[0;32mTrue\u001b[0m\u001b[0;34m)\u001b[0m\u001b[0;34m\u001b[0m\u001b[0;34m\u001b[0m\u001b[0m\n\u001b[1;32m      2\u001b[0m \u001b[0;34m\u001b[0m\u001b[0m\n\u001b[0;32m----> 3\u001b[0;31m \u001b[0;32mwith\u001b[0m \u001b[0mTCLab\u001b[0m\u001b[0;34m(\u001b[0m\u001b[0;34m)\u001b[0m \u001b[0;32mas\u001b[0m \u001b[0mlab\u001b[0m\u001b[0;34m:\u001b[0m\u001b[0;34m\u001b[0m\u001b[0;34m\u001b[0m\u001b[0m\n\u001b[0m\u001b[1;32m      4\u001b[0m     sources = [('T1', lambda: lab.T1),\n\u001b[1;32m      5\u001b[0m                 ('Q1', lambda: lab.U1)]\n",
      "\u001b[0;32m/anaconda3/lib/python3.7/site-packages/tclab/tclab.py\u001b[0m in \u001b[0;36m__init__\u001b[0;34m(self, port, debug)\u001b[0m\n\u001b[1;32m     59\u001b[0m         \u001b[0mself\u001b[0m\u001b[0;34m.\u001b[0m\u001b[0mport\u001b[0m\u001b[0;34m,\u001b[0m \u001b[0mself\u001b[0m\u001b[0;34m.\u001b[0m\u001b[0marduino\u001b[0m \u001b[0;34m=\u001b[0m \u001b[0mfind_arduino\u001b[0m\u001b[0;34m(\u001b[0m\u001b[0mport\u001b[0m\u001b[0;34m)\u001b[0m\u001b[0;34m\u001b[0m\u001b[0;34m\u001b[0m\u001b[0m\n\u001b[1;32m     60\u001b[0m         \u001b[0;32mif\u001b[0m \u001b[0mself\u001b[0m\u001b[0;34m.\u001b[0m\u001b[0mport\u001b[0m \u001b[0;32mis\u001b[0m \u001b[0;32mNone\u001b[0m\u001b[0;34m:\u001b[0m\u001b[0;34m\u001b[0m\u001b[0;34m\u001b[0m\u001b[0m\n\u001b[0;32m---> 61\u001b[0;31m             \u001b[0;32mraise\u001b[0m \u001b[0mRuntimeError\u001b[0m\u001b[0;34m(\u001b[0m\u001b[0;34m'No Arduino device found.'\u001b[0m\u001b[0;34m)\u001b[0m\u001b[0;34m\u001b[0m\u001b[0;34m\u001b[0m\u001b[0m\n\u001b[0m\u001b[1;32m     62\u001b[0m \u001b[0;34m\u001b[0m\u001b[0m\n\u001b[1;32m     63\u001b[0m         \u001b[0;32mtry\u001b[0m\u001b[0;34m:\u001b[0m\u001b[0;34m\u001b[0m\u001b[0;34m\u001b[0m\u001b[0m\n",
      "\u001b[0;31mRuntimeError\u001b[0m: No Arduino device found."
     ]
    }
   ],
   "source": [
    "TCLab = tclab.setup(connected=True)\n",
    "\n",
    "with TCLab() as lab:\n",
    "    sources = [('T1', lambda: lab.T1),\n",
    "                ('Q1', lambda: lab.U1)]\n",
    "    h = tclab.Historian(sources)\n",
    "    p = tclab.Plotter(h, total_time)\n",
    "    \n",
    "    \n",
    "    for index, Gc in enumerate(all_controller_blocks):\n",
    "        for t in tclab.clock(run_length):         \n",
    "            \n",
    "            if t < run_length/2:\n",
    "                T1sp = 50\n",
    "            else:\n",
    "                T1sp = 60\n",
    "                                \n",
    "            Q1 = lab.Q1(float(Gc.output+50))\n",
    "            T1 = lab.T1\n",
    "            e = T1sp-T1\n",
    "            \n",
    "#             print (Names[index], T1sp, t, T1, Q1)\n",
    "            \n",
    "            for step in range(integral_steps):\n",
    "                Gc.change_input(t,e)\n",
    "                Gc.change_state(Gc.state+Gc.derivative(e)/integral_steps)\n",
    "\n",
    "#             h.update(t + index*run_length) \n",
    "            p.update(t + index*run_length)"
   ]
  },
  {
   "cell_type": "code",
   "execution_count": 18,
   "metadata": {},
   "outputs": [
    {
     "ename": "NameError",
     "evalue": "name 'h' is not defined",
     "output_type": "error",
     "traceback": [
      "\u001b[0;31m---------------------------------------------------------------------------\u001b[0m",
      "\u001b[0;31mNameError\u001b[0m                                 Traceback (most recent call last)",
      "\u001b[0;32m<ipython-input-18-02caccec8aee>\u001b[0m in \u001b[0;36m<module>\u001b[0;34m\u001b[0m\n\u001b[0;32m----> 1\u001b[0;31m \u001b[0mh\u001b[0m\u001b[0;34m.\u001b[0m\u001b[0mget_sessions\u001b[0m\u001b[0;34m(\u001b[0m\u001b[0;34m)\u001b[0m\u001b[0;34m\u001b[0m\u001b[0;34m\u001b[0m\u001b[0m\n\u001b[0m",
      "\u001b[0;31mNameError\u001b[0m: name 'h' is not defined"
     ]
    }
   ],
   "source": [
    "h.get_sessions()"
   ]
  },
  {
   "cell_type": "code",
   "execution_count": 19,
   "metadata": {},
   "outputs": [
    {
     "ename": "NameError",
     "evalue": "name 'h' is not defined",
     "output_type": "error",
     "traceback": [
      "\u001b[0;31m---------------------------------------------------------------------------\u001b[0m",
      "\u001b[0;31mNameError\u001b[0m                                 Traceback (most recent call last)",
      "\u001b[0;32m<ipython-input-19-d7d5fd06422e>\u001b[0m in \u001b[0;36m<module>\u001b[0;34m\u001b[0m\n\u001b[0;32m----> 1\u001b[0;31m \u001b[0mh\u001b[0m\u001b[0;34m.\u001b[0m\u001b[0mload_session\u001b[0m\u001b[0;34m(\u001b[0m\u001b[0;36m1\u001b[0m\u001b[0;34m)\u001b[0m\u001b[0;34m\u001b[0m\u001b[0;34m\u001b[0m\u001b[0m\n\u001b[0m",
      "\u001b[0;31mNameError\u001b[0m: name 'h' is not defined"
     ]
    }
   ],
   "source": [
    "h.load_session(1)"
   ]
  },
  {
   "cell_type": "code",
   "execution_count": 20,
   "metadata": {},
   "outputs": [
    {
     "ename": "NameError",
     "evalue": "name 'h' is not defined",
     "output_type": "error",
     "traceback": [
      "\u001b[0;31m---------------------------------------------------------------------------\u001b[0m",
      "\u001b[0;31mNameError\u001b[0m                                 Traceback (most recent call last)",
      "\u001b[0;32m<ipython-input-20-51433b2b0a7b>\u001b[0m in \u001b[0;36m<module>\u001b[0;34m\u001b[0m\n\u001b[0;32m----> 1\u001b[0;31m \u001b[0mdata\u001b[0m \u001b[0;34m=\u001b[0m \u001b[0;34m{\u001b[0m\u001b[0;34m\"Time\"\u001b[0m \u001b[0;34m:\u001b[0m \u001b[0mh\u001b[0m\u001b[0;34m.\u001b[0m\u001b[0mt\u001b[0m\u001b[0;34m,\u001b[0m \u001b[0;34m\"T1\"\u001b[0m \u001b[0;34m:\u001b[0m \u001b[0mh\u001b[0m\u001b[0;34m.\u001b[0m\u001b[0mlogdict\u001b[0m\u001b[0;34m[\u001b[0m\u001b[0;34m'T1'\u001b[0m\u001b[0;34m]\u001b[0m\u001b[0;34m,\u001b[0m \u001b[0;34m\"Q1\"\u001b[0m \u001b[0;34m:\u001b[0m \u001b[0mh\u001b[0m\u001b[0;34m.\u001b[0m\u001b[0mlogdict\u001b[0m\u001b[0;34m[\u001b[0m\u001b[0;34m'Q1'\u001b[0m\u001b[0;34m]\u001b[0m\u001b[0;34m}\u001b[0m\u001b[0;34m\u001b[0m\u001b[0;34m\u001b[0m\u001b[0m\n\u001b[0m",
      "\u001b[0;31mNameError\u001b[0m: name 'h' is not defined"
     ]
    }
   ],
   "source": [
    "data = {\"Time\" : h.t, \"T1\" : h.logdict['T1'], \"Q1\" : h.logdict['Q1']}"
   ]
  },
  {
   "cell_type": "code",
   "execution_count": 21,
   "metadata": {},
   "outputs": [
    {
     "ename": "NameError",
     "evalue": "name 'data' is not defined",
     "output_type": "error",
     "traceback": [
      "\u001b[0;31m---------------------------------------------------------------------------\u001b[0m",
      "\u001b[0;31mNameError\u001b[0m                                 Traceback (most recent call last)",
      "\u001b[0;32m<ipython-input-21-5dd972e9184d>\u001b[0m in \u001b[0;36m<module>\u001b[0;34m\u001b[0m\n\u001b[0;32m----> 1\u001b[0;31m \u001b[0mdata_frame\u001b[0m \u001b[0;34m=\u001b[0m \u001b[0mpandas\u001b[0m\u001b[0;34m.\u001b[0m\u001b[0mDataFrame\u001b[0m\u001b[0;34m(\u001b[0m\u001b[0mdata\u001b[0m \u001b[0;34m=\u001b[0m \u001b[0mdata\u001b[0m\u001b[0;34m)\u001b[0m\u001b[0;34m\u001b[0m\u001b[0;34m\u001b[0m\u001b[0m\n\u001b[0m\u001b[1;32m      2\u001b[0m \u001b[0mdata_frame\u001b[0m\u001b[0;34m.\u001b[0m\u001b[0mto_csv\u001b[0m\u001b[0;34m(\u001b[0m\u001b[0;34m\"Controller Testing 4.csv\"\u001b[0m\u001b[0;34m)\u001b[0m\u001b[0;34m\u001b[0m\u001b[0;34m\u001b[0m\u001b[0m\n",
      "\u001b[0;31mNameError\u001b[0m: name 'data' is not defined"
     ]
    }
   ],
   "source": [
    "data_frame = pandas.DataFrame(data = data)\n",
    "data_frame.to_csv(\"Controller Testing 4.csv\")"
   ]
  },
  {
   "cell_type": "code",
   "execution_count": 22,
   "metadata": {},
   "outputs": [
    {
     "ename": "NameError",
     "evalue": "name 'data_frame' is not defined",
     "output_type": "error",
     "traceback": [
      "\u001b[0;31m---------------------------------------------------------------------------\u001b[0m",
      "\u001b[0;31mNameError\u001b[0m                                 Traceback (most recent call last)",
      "\u001b[0;32m<ipython-input-22-2480fe6c1a2b>\u001b[0m in \u001b[0;36m<module>\u001b[0;34m\u001b[0m\n\u001b[0;32m----> 1\u001b[0;31m \u001b[0mdata_frame\u001b[0m\u001b[0;34m\u001b[0m\u001b[0;34m\u001b[0m\u001b[0m\n\u001b[0m",
      "\u001b[0;31mNameError\u001b[0m: name 'data_frame' is not defined"
     ]
    }
   ],
   "source": [
    "data_frame"
   ]
  },
  {
   "cell_type": "code",
   "execution_count": null,
   "metadata": {},
   "outputs": [],
   "source": []
  }
 ],
 "metadata": {
  "kernelspec": {
   "display_name": "Python 3",
   "language": "python",
   "name": "python3"
  },
  "language_info": {
   "codemirror_mode": {
    "name": "ipython",
    "version": 3
   },
   "file_extension": ".py",
   "mimetype": "text/x-python",
   "name": "python",
   "nbconvert_exporter": "python",
   "pygments_lexer": "ipython3",
   "version": "3.7.3"
  }
 },
 "nbformat": 4,
 "nbformat_minor": 4
}
