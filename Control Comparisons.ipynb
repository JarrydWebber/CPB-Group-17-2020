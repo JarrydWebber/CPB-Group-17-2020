{
 "cells": [
  {
   "cell_type": "code",
   "execution_count": 1,
   "metadata": {},
   "outputs": [],
   "source": [
    "import tclab\n",
    "import numpy\n",
    "import pandas\n",
    "\n",
    "import tbcontrol\n",
    "from tbcontrol import blocksim\n",
    "\n",
    "import matplotlib.pyplot as plt\n",
    "from latex_figure import plotfigure\n",
    "\n",
    "import datetime"
   ]
  },
  {
   "cell_type": "markdown",
   "metadata": {},
   "source": [
    "# Parameter Functions"
   ]
  },
  {
   "cell_type": "code",
   "execution_count": 2,
   "metadata": {},
   "outputs": [],
   "source": [
    "def cohen_coon(controller_type, parameters):\n",
    "    K, tau, theta =  parameters\n",
    "    \n",
    "    if controller_type == 'P':\n",
    "        Kc = (1.03/K)*(tau/theta + 0.34)\n",
    "        return Kc\n",
    "\n",
    "#PI controller\n",
    "    if controller_type == 'PI':\n",
    "        Kc = (0.9/K)*(tau/theta + 0.092)\n",
    "        tauI = (3.33*theta)*((tau + 0.092*theta)/(tau + 2.22*theta))\n",
    "        return Kc, tauI\n",
    "\n",
    "\n",
    "#PD controller\n",
    "    if controller_type == 'PD':\n",
    "        Kc = (1.24/K)*(tau/theta + 0.129)\n",
    "        taud = 0.27*theta*((tau - 0.324*theta)/(tau + 0.129*theta))\n",
    "        α = 2\n",
    "        return Kc, taud, α\n",
    "\n",
    "#PID controller\n",
    "    if controller_type == 'PID':\n",
    "        Kc = (1.35/K)*(tau/theta + 0.185)\n",
    "        tauI = 2.5*theta*((tau + 0.185*theta)/(tau + 0.611*theta))\n",
    "        taud = 0.37*theta*(tau/(tau + 0.185*theta))\n",
    "        return Kc, tauI, taud"
   ]
  },
  {
   "cell_type": "code",
   "execution_count": 3,
   "metadata": {},
   "outputs": [],
   "source": [
    "def IAE_setpoints(controller_type, parameters):\n",
    "    K, tau, theta = parameters\n",
    "#setpoints\n",
    "    if controller_type == 'PI':   \n",
    "        # PI\n",
    "        Kc = (0.758/K)*(theta/tau)**-0.861\n",
    "        tauI = tau/(1.02 - 0.323*(theta/tau))\n",
    "        return Kc, tauI\n",
    "\n",
    "\n",
    "    if controller_type == 'PID':\n",
    "        # PID\n",
    "        Kc = (1.086/K)*(theta/tau)**-0.869\n",
    "        tauI = tau/(0.740 - 0.130*(theta/tau))\n",
    "        taud = 0.348*tau*(theta/tau)**0.914\n",
    "        return Kc, tauI, taud"
   ]
  },
  {
   "cell_type": "code",
   "execution_count": 4,
   "metadata": {},
   "outputs": [],
   "source": [
    "def IAE_disturbances(controller_type, parameters):\n",
    "    K, tau , theta = parameters\n",
    "#disturbance\n",
    "    if controller_type == 'P':\n",
    "        # P\n",
    "        Kc = (0.902/K)*(theta/tau)**-0.985\n",
    "        return Kc\n",
    "    \n",
    "    if controller_type == 'PI':\n",
    "        # PI\n",
    "        Kc = (0.984/K)*(theta/tau)**-0.986\n",
    "        tauI = (tau/0.608)*(theta/tau)**0.707\n",
    "        return Kc, tauI\n",
    "\n",
    "    if controller_type == 'PID':\n",
    "        # PID\n",
    "        Kc = (1.435/K)*(theta/tau)**-0.921\n",
    "        tauI = (tau/0.878)*(theta/tau)**0.749\n",
    "        taud = 0.482*tau*(theta/tau)**1.137\n",
    "        return Kc, tauI, taud"
   ]
  },
  {
   "cell_type": "markdown",
   "metadata": {},
   "source": [
    "# Block Sim Creation"
   ]
  },
  {
   "cell_type": "code",
   "execution_count": 5,
   "metadata": {},
   "outputs": [],
   "source": [
    "def controller_block(controller_type, parameters):\n",
    "    \n",
    "    if controller_type == 'P':\n",
    "        Kc_P = parameters\n",
    "        Gc_P = blocksim.LTI('Gc_P', 'e', 'Q', Kc_P, 1)\n",
    "        return Gc_P\n",
    "    \n",
    "    if controller_type == 'PI':\n",
    "        Kc_PI, tauI_PI = parameters\n",
    "        Gc_PI = blocksim.PI('Gc_PI','e','Q', Kc_PI, tauI_PI)\n",
    "        return Gc_PI\n",
    "    \n",
    "    if controller_type == 'PD':\n",
    "        Kc_PD, tauD_PD, α = parameters\n",
    "        Gc_PD = blocksim.LTI('Gc_PD','e','Q', [Kc_PD * tauD_PD * (α + 1), Kc_PD], [tauD_PD * α, 1]) \n",
    "        # Used the α term for physical realizability - Textbook eq 7-12 pg 129\n",
    "        return Gc_PD\n",
    "    \n",
    "    if controller_type == 'PID':\n",
    "        Kc_PID, tauI_PID, tauD_PID = parameters\n",
    "        Gc_PID = blocksim.PID('Gc_PID', 'e', 'Q', Kc_PID, tauI_PID, tauD_PID)\n",
    "        return Gc_PID"
   ]
  },
  {
   "cell_type": "code",
   "execution_count": 6,
   "metadata": {},
   "outputs": [],
   "source": [
    "def system_block(parameters):\n",
    "    K, tau, theta = parameters\n",
    "    Gp = blocksim.LTI('Gp', 'Q', 'Tp', K, [tau, 1], theta) # Block of the system FOPDT model\n",
    "    return Gp"
   ]
  },
  {
   "cell_type": "markdown",
   "metadata": {},
   "source": [
    "# Params"
   ]
  },
  {
   "cell_type": "code",
   "execution_count": 7,
   "metadata": {},
   "outputs": [],
   "source": [
    "K = 0.6423177737615754\n",
    "tau = 150.3121523254063\n",
    "theta = 17.396993066317368"
   ]
  },
  {
   "cell_type": "code",
   "execution_count": 8,
   "metadata": {},
   "outputs": [],
   "source": [
    "params = [K, tau, theta]"
   ]
  },
  {
   "cell_type": "code",
   "execution_count": 9,
   "metadata": {},
   "outputs": [],
   "source": [
    "controller_types = ['P', 'PI', 'PID']\n",
    "IAE_Set = ['PI', 'PID']\n",
    "IAE_Dis = ['P', 'PI', 'PID']\n",
    "Names = ['CC P', 'CC PI', 'CC PID', 'IAE Setpoint PI', 'IAE Setpoint PID', 'IAE Distrurbance P', 'IAE Distrurbance PI', 'IAE Distrurbance PID']"
   ]
  },
  {
   "cell_type": "code",
   "execution_count": 10,
   "metadata": {},
   "outputs": [],
   "source": [
    "integral_steps = 10"
   ]
  },
  {
   "cell_type": "code",
   "execution_count": 23,
   "metadata": {},
   "outputs": [],
   "source": [
    "run_length = 200"
   ]
  },
  {
   "cell_type": "markdown",
   "metadata": {},
   "source": [
    "# Runs"
   ]
  },
  {
   "cell_type": "code",
   "execution_count": 24,
   "metadata": {},
   "outputs": [],
   "source": [
    "Gp = system_block(params)"
   ]
  },
  {
   "cell_type": "code",
   "execution_count": 25,
   "metadata": {},
   "outputs": [],
   "source": [
    "all_controller_blocks = []\n",
    "\n",
    "for controller in controller_types:\n",
    "    Gc = controller_block(controller, cohen_coon(controller, params))\n",
    "    all_controller_blocks.append(Gc)\n",
    "\n",
    "for controller in IAE_Set:\n",
    "    Gc = controller_block(controller, IAE_setpoints(controller, params))\n",
    "    all_controller_blocks.append(Gc)\n",
    "\n",
    "for controller in IAE_Dis:\n",
    "    Gc = controller_block(controller, IAE_disturbances(controller, params))\n",
    "    all_controller_blocks.append(Gc)  "
   ]
  },
  {
   "cell_type": "code",
   "execution_count": 26,
   "metadata": {},
   "outputs": [
    {
     "data": {
      "text/plain": [
       "[LTI: e →[ Gc_P ]→ Q,\n",
       " PI: e →[ Gc_PI ]→ Q,\n",
       " PID: e →[ Gc_PID ]→ Q,\n",
       " PI: e →[ Gc_PI ]→ Q,\n",
       " PID: e →[ Gc_PID ]→ Q,\n",
       " LTI: e →[ Gc_P ]→ Q,\n",
       " PI: e →[ Gc_PI ]→ Q,\n",
       " PID: e →[ Gc_PID ]→ Q]"
      ]
     },
     "execution_count": 26,
     "metadata": {},
     "output_type": "execute_result"
    }
   ],
   "source": [
    "all_controller_blocks# = [all_controller_blocks[0]]"
   ]
  },
  {
   "cell_type": "code",
   "execution_count": 27,
   "metadata": {},
   "outputs": [],
   "source": [
    "total_time = run_length*len(all_controller_blocks)"
   ]
  },
  {
   "cell_type": "code",
   "execution_count": 28,
   "metadata": {},
   "outputs": [
    {
     "data": {
      "text/plain": [
       "('0:26:40', 1600)"
      ]
     },
     "execution_count": 28,
     "metadata": {},
     "output_type": "execute_result"
    }
   ],
   "source": [
    "str(datetime.timedelta(seconds=total_time)), total_time"
   ]
  },
  {
   "cell_type": "code",
   "execution_count": 29,
   "metadata": {},
   "outputs": [
    {
     "data": {
      "image/png": "[encoded data removed]",
      "text/plain": [
       "<Figure size 640x240 with 2 Axes>"
      ]
     },
     "metadata": {},
     "output_type": "display_data"
    },
    {
     "name": "stdout",
     "output_type": "stream",
     "text": [
      "TCLab disconnected successfully.\n"
     ]
    },
    {
     "data": {
      "image/png": "[encoded data removed]",
      "text/plain": [
       "<Figure size 640x240 with 2 Axes>"
      ]
     },
     "metadata": {
      "needs_background": "light"
     },
     "output_type": "display_data"
    }
   ],
   "source": [
    "TCLab = tclab.setup(connected=True)\n",
    "\n",
    "with TCLab() as lab:\n",
    "    sources = [('T1', lambda: lab.T1),\n",
    "                ('Q1', lambda: lab.U1)]\n",
    "    h = tclab.Historian(sources)\n",
    "    p = tclab.Plotter(h, total_time)\n",
    "    \n",
    "    \n",
    "    for index, Gc in enumerate(all_controller_blocks):\n",
    "        for t in tclab.clock(run_length):         \n",
    "            \n",
    "            if t < run_length/2:\n",
    "                T1sp = 50\n",
    "            else:\n",
    "                T1sp = 60\n",
    "                                \n",
    "            Q1 = lab.Q1(float(Gc.output+50))\n",
    "            T1 = lab.T1\n",
    "            e = T1sp-T1\n",
    "            \n",
    "#             print (Names[index], T1sp, t, T1, Q1)\n",
    "            \n",
    "            for step in range(integral_steps):\n",
    "                Gc.change_input(t,e)\n",
    "                Gc.change_state(Gc.state+Gc.derivative(e)/integral_steps)\n",
    "\n",
    "#             h.update(t + index*run_length) \n",
    "            p.update(t + index*run_length)"
   ]
  },
  {
   "cell_type": "code",
   "execution_count": 30,
   "metadata": {},
   "outputs": [
    {
     "data": {
      "text/plain": [
       "[(1, '2020-03-03 00:27:03', 1601)]"
      ]
     },
     "execution_count": 30,
     "metadata": {},
     "output_type": "execute_result"
    }
   ],
   "source": [
    "h.get_sessions()"
   ]
  },
  {
   "cell_type": "code",
   "execution_count": 31,
   "metadata": {},
   "outputs": [],
   "source": [
    "h.load_session(1)"
   ]
  },
  {
   "cell_type": "code",
   "execution_count": 32,
   "metadata": {},
   "outputs": [],
   "source": [
    "data = {\"Time\" : h.t, \"T1\" : h.logdict['T1'], \"Q1\" : h.logdict['Q1']}"
   ]
  },
  {
   "cell_type": "code",
   "execution_count": 33,
   "metadata": {},
   "outputs": [],
   "source": [
    "data_frame = pandas.DataFrame(data = data)\n",
    "data_frame.to_csv(\"Controller Testing 4.csv\")"
   ]
  },
  {
   "cell_type": "code",
   "execution_count": 42,
   "metadata": {},
   "outputs": [
    {
     "data": {
      "text/html": [
       "<div>\n",
       "<style scoped>\n",
       "    .dataframe tbody tr th:only-of-type {\n",
       "        vertical-align: middle;\n",
       "    }\n",
       "\n",
       "    .dataframe tbody tr th {\n",
       "        vertical-align: top;\n",
       "    }\n",
       "\n",
       "    .dataframe thead th {\n",
       "        text-align: right;\n",
       "    }\n",
       "</style>\n",
       "<table border=\"1\" class=\"dataframe\">\n",
       "  <thead>\n",
       "    <tr style=\"text-align: right;\">\n",
       "      <th></th>\n",
       "      <th>Time</th>\n",
       "      <th>T1</th>\n",
       "      <th>Q1</th>\n",
       "    </tr>\n",
       "  </thead>\n",
       "  <tbody>\n",
       "    <tr>\n",
       "      <td>0</td>\n",
       "      <td>0.0</td>\n",
       "      <td>52.17</td>\n",
       "      <td>50.00</td>\n",
       "    </tr>\n",
       "    <tr>\n",
       "      <td>1</td>\n",
       "      <td>1.0</td>\n",
       "      <td>52.17</td>\n",
       "      <td>18.75</td>\n",
       "    </tr>\n",
       "    <tr>\n",
       "      <td>2</td>\n",
       "      <td>2.0</td>\n",
       "      <td>51.85</td>\n",
       "      <td>23.36</td>\n",
       "    </tr>\n",
       "    <tr>\n",
       "      <td>3</td>\n",
       "      <td>3.0</td>\n",
       "      <td>51.85</td>\n",
       "      <td>23.36</td>\n",
       "    </tr>\n",
       "    <tr>\n",
       "      <td>4</td>\n",
       "      <td>4.0</td>\n",
       "      <td>51.85</td>\n",
       "      <td>28.11</td>\n",
       "    </tr>\n",
       "    <tr>\n",
       "      <td>...</td>\n",
       "      <td>...</td>\n",
       "      <td>...</td>\n",
       "      <td>...</td>\n",
       "    </tr>\n",
       "    <tr>\n",
       "      <td>1603</td>\n",
       "      <td>1596.0</td>\n",
       "      <td>58.62</td>\n",
       "      <td>100.00</td>\n",
       "    </tr>\n",
       "    <tr>\n",
       "      <td>1604</td>\n",
       "      <td>1597.0</td>\n",
       "      <td>58.94</td>\n",
       "      <td>100.00</td>\n",
       "    </tr>\n",
       "    <tr>\n",
       "      <td>1605</td>\n",
       "      <td>1598.0</td>\n",
       "      <td>58.94</td>\n",
       "      <td>100.00</td>\n",
       "    </tr>\n",
       "    <tr>\n",
       "      <td>1606</td>\n",
       "      <td>1599.0</td>\n",
       "      <td>58.94</td>\n",
       "      <td>100.00</td>\n",
       "    </tr>\n",
       "    <tr>\n",
       "      <td>1607</td>\n",
       "      <td>1600.0</td>\n",
       "      <td>59.26</td>\n",
       "      <td>100.00</td>\n",
       "    </tr>\n",
       "  </tbody>\n",
       "</table>\n",
       "<p>1608 rows × 3 columns</p>\n",
       "</div>"
      ],
      "text/plain": [
       "        Time     T1      Q1\n",
       "0        0.0  52.17   50.00\n",
       "1        1.0  52.17   18.75\n",
       "2        2.0  51.85   23.36\n",
       "3        3.0  51.85   23.36\n",
       "4        4.0  51.85   28.11\n",
       "...      ...    ...     ...\n",
       "1603  1596.0  58.62  100.00\n",
       "1604  1597.0  58.94  100.00\n",
       "1605  1598.0  58.94  100.00\n",
       "1606  1599.0  58.94  100.00\n",
       "1607  1600.0  59.26  100.00\n",
       "\n",
       "[1608 rows x 3 columns]"
      ]
     },
     "execution_count": 42,
     "metadata": {},
     "output_type": "execute_result"
    }
   ],
   "source": [
    "data_frame"
   ]
  },
  {
   "cell_type": "code",
   "execution_count": null,
   "metadata": {},
   "outputs": [],
   "source": []
  }
 ],
 "metadata": {
  "kernelspec": {
   "display_name": "Python 3",
   "language": "python",
   "name": "python3"
  },
  "language_info": {
   "codemirror_mode": {
    "name": "ipython",
    "version": 3
   },
   "file_extension": ".py",
   "mimetype": "text/x-python",
   "name": "python",
   "nbconvert_exporter": "python",
   "pygments_lexer": "ipython3",
   "version": "3.7.4"
  }
 },
 "nbformat": 4,
 "nbformat_minor": 4
}
